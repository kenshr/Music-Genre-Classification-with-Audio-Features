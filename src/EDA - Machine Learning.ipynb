{
 "cells": [
  {
   "cell_type": "code",
   "execution_count": 52,
   "metadata": {},
   "outputs": [],
   "source": [
    "# imports\n",
    "import numpy as np\n",
    "import pandas as pd\n",
    "import matplotlib.pyplot as plt\n",
    "import scipy.stats as stats\n",
    "\n",
    "from collections import Counter\n",
    "\n",
    "from sklearn.model_selection import train_test_split, GridSearchCV, KFold, StratifiedKFold, cross_val_score\n",
    "from sklearn.metrics import mean_squared_error \n",
    "from sklearn.tree import DecisionTreeClassifier\n",
    "from sklearn.ensemble import RandomForestClassifier, GradientBoostingClassifier\n",
    "from sklearn.neighbors import KNeighborsClassifier\n",
    "from sklearn.dummy import DummyClassifier\n",
    "from sklearn.linear_model import LogisticRegression, LinearRegression\n",
    "\n",
    "%matplotlib inline\n",
    "plt.style.use('ggplot')"
   ]
  },
  {
   "cell_type": "code",
   "execution_count": 2,
   "metadata": {},
   "outputs": [],
   "source": [
    "df = pd.read_csv('../data/track_audio_dataset.csv', index_col=0)"
   ]
  },
  {
   "cell_type": "code",
   "execution_count": 3,
   "metadata": {},
   "outputs": [
    {
     "name": "stdout",
     "output_type": "stream",
     "text": [
      "<class 'pandas.core.frame.DataFrame'>\n",
      "Int64Index: 77629 entries, 0 to 77628\n",
      "Data columns (total 20 columns):\n",
      " #   Column            Non-Null Count  Dtype  \n",
      "---  ------            --------------  -----  \n",
      " 0   track_name        77629 non-null  object \n",
      " 1   artist_name       77629 non-null  object \n",
      " 2   album_name        77629 non-null  object \n",
      " 3   genre             77629 non-null  object \n",
      " 4   duration_ms       77629 non-null  int64  \n",
      " 5   popularity        77629 non-null  int64  \n",
      " 6   explicit          77629 non-null  bool   \n",
      " 7   track_id          77629 non-null  object \n",
      " 8   artist_id         77629 non-null  object \n",
      " 9   danceability      77629 non-null  float64\n",
      " 10  energy            77629 non-null  float64\n",
      " 11  key               77629 non-null  int64  \n",
      " 12  loudness          77629 non-null  float64\n",
      " 13  mode              77629 non-null  int64  \n",
      " 14  speechiness       77629 non-null  float64\n",
      " 15  acousticness      77629 non-null  float64\n",
      " 16  instrumentalness  77629 non-null  float64\n",
      " 17  liveness          77629 non-null  float64\n",
      " 18  valence           77629 non-null  float64\n",
      " 19  tempo             77629 non-null  float64\n",
      "dtypes: bool(1), float64(9), int64(4), object(6)\n",
      "memory usage: 11.9+ MB\n"
     ]
    }
   ],
   "source": [
    "df.info()"
   ]
  },
  {
   "cell_type": "markdown",
   "metadata": {},
   "source": [
    "# Data Cleaning"
   ]
  },
  {
   "cell_type": "code",
   "execution_count": 4,
   "metadata": {},
   "outputs": [],
   "source": [
    "# Replace booleans with integers\n",
    "df.explicit = df.explicit.astype(int)\n",
    "\n",
    "# Convert from milliseconds to seconds\n",
    "df['duration_s'] = np.round(df.duration_ms/1000,0)"
   ]
  },
  {
   "cell_type": "code",
   "execution_count": 5,
   "metadata": {},
   "outputs": [
    {
     "data": {
      "text/html": [
       "<div>\n",
       "<style scoped>\n",
       "    .dataframe tbody tr th:only-of-type {\n",
       "        vertical-align: middle;\n",
       "    }\n",
       "\n",
       "    .dataframe tbody tr th {\n",
       "        vertical-align: top;\n",
       "    }\n",
       "\n",
       "    .dataframe thead th {\n",
       "        text-align: right;\n",
       "    }\n",
       "</style>\n",
       "<table border=\"1\" class=\"dataframe\">\n",
       "  <thead>\n",
       "    <tr style=\"text-align: right;\">\n",
       "      <th></th>\n",
       "      <th>track_name</th>\n",
       "      <th>artist_name</th>\n",
       "      <th>album_name</th>\n",
       "      <th>genre</th>\n",
       "      <th>duration_ms</th>\n",
       "      <th>popularity</th>\n",
       "      <th>explicit</th>\n",
       "      <th>track_id</th>\n",
       "      <th>artist_id</th>\n",
       "      <th>danceability</th>\n",
       "      <th>...</th>\n",
       "      <th>key</th>\n",
       "      <th>loudness</th>\n",
       "      <th>mode</th>\n",
       "      <th>speechiness</th>\n",
       "      <th>acousticness</th>\n",
       "      <th>instrumentalness</th>\n",
       "      <th>liveness</th>\n",
       "      <th>valence</th>\n",
       "      <th>tempo</th>\n",
       "      <th>duration_s</th>\n",
       "    </tr>\n",
       "  </thead>\n",
       "  <tbody>\n",
       "    <tr>\n",
       "      <th>0</th>\n",
       "      <td>Hold On</td>\n",
       "      <td>Chord Overstreet</td>\n",
       "      <td>Hold On</td>\n",
       "      <td>acoustic</td>\n",
       "      <td>198853</td>\n",
       "      <td>83</td>\n",
       "      <td>0</td>\n",
       "      <td>5vjLSffimiIP26QG5WcN2K</td>\n",
       "      <td>5D3muNJhYYunbRkh3FKgX0</td>\n",
       "      <td>0.618</td>\n",
       "      <td>...</td>\n",
       "      <td>2</td>\n",
       "      <td>-9.681</td>\n",
       "      <td>1</td>\n",
       "      <td>0.0526</td>\n",
       "      <td>0.4690</td>\n",
       "      <td>0.0</td>\n",
       "      <td>0.0829</td>\n",
       "      <td>0.167</td>\n",
       "      <td>119.949</td>\n",
       "      <td>199.0</td>\n",
       "    </tr>\n",
       "    <tr>\n",
       "      <th>1</th>\n",
       "      <td>I'm Yours</td>\n",
       "      <td>Jason Mraz</td>\n",
       "      <td>We Sing. We Dance. We Steal Things.</td>\n",
       "      <td>acoustic</td>\n",
       "      <td>242186</td>\n",
       "      <td>83</td>\n",
       "      <td>0</td>\n",
       "      <td>1EzrEOXmMH3G43AXT1y7pA</td>\n",
       "      <td>4phGZZrJZRo4ElhRtViYdl</td>\n",
       "      <td>0.686</td>\n",
       "      <td>...</td>\n",
       "      <td>11</td>\n",
       "      <td>-8.322</td>\n",
       "      <td>1</td>\n",
       "      <td>0.0468</td>\n",
       "      <td>0.5950</td>\n",
       "      <td>0.0</td>\n",
       "      <td>0.1050</td>\n",
       "      <td>0.718</td>\n",
       "      <td>150.953</td>\n",
       "      <td>242.0</td>\n",
       "    </tr>\n",
       "    <tr>\n",
       "      <th>2</th>\n",
       "      <td>I Won't Give Up</td>\n",
       "      <td>Jason Mraz</td>\n",
       "      <td>Love Is a Four Letter Word (Deluxe Edition)</td>\n",
       "      <td>acoustic</td>\n",
       "      <td>240165</td>\n",
       "      <td>73</td>\n",
       "      <td>0</td>\n",
       "      <td>53QF56cjZA9RTuuMZDrSA6</td>\n",
       "      <td>4phGZZrJZRo4ElhRtViYdl</td>\n",
       "      <td>0.585</td>\n",
       "      <td>...</td>\n",
       "      <td>4</td>\n",
       "      <td>-10.058</td>\n",
       "      <td>1</td>\n",
       "      <td>0.0398</td>\n",
       "      <td>0.6940</td>\n",
       "      <td>0.0</td>\n",
       "      <td>0.1150</td>\n",
       "      <td>0.142</td>\n",
       "      <td>136.703</td>\n",
       "      <td>240.0</td>\n",
       "    </tr>\n",
       "    <tr>\n",
       "      <th>3</th>\n",
       "      <td>Come On Get Higher</td>\n",
       "      <td>Matt Nathanson</td>\n",
       "      <td>Some Mad Hope</td>\n",
       "      <td>acoustic</td>\n",
       "      <td>215173</td>\n",
       "      <td>72</td>\n",
       "      <td>0</td>\n",
       "      <td>38YgZVHPWOWsKrsCXz6JyP</td>\n",
       "      <td>4NGiEU3Pkd8ASRyQR30jcA</td>\n",
       "      <td>0.672</td>\n",
       "      <td>...</td>\n",
       "      <td>9</td>\n",
       "      <td>-5.699</td>\n",
       "      <td>1</td>\n",
       "      <td>0.0297</td>\n",
       "      <td>0.2410</td>\n",
       "      <td>0.0</td>\n",
       "      <td>0.0848</td>\n",
       "      <td>0.617</td>\n",
       "      <td>92.018</td>\n",
       "      <td>215.0</td>\n",
       "    </tr>\n",
       "    <tr>\n",
       "      <th>4</th>\n",
       "      <td>Love Song</td>\n",
       "      <td>Sara Bareilles</td>\n",
       "      <td>Little Voice</td>\n",
       "      <td>acoustic</td>\n",
       "      <td>258826</td>\n",
       "      <td>75</td>\n",
       "      <td>0</td>\n",
       "      <td>4E6cwWJWZw2zWf7VFbH7wf</td>\n",
       "      <td>2Sqr0DXoaYABbjBo9HaMkM</td>\n",
       "      <td>0.583</td>\n",
       "      <td>...</td>\n",
       "      <td>2</td>\n",
       "      <td>-3.142</td>\n",
       "      <td>0</td>\n",
       "      <td>0.0301</td>\n",
       "      <td>0.0208</td>\n",
       "      <td>0.0</td>\n",
       "      <td>0.1880</td>\n",
       "      <td>0.573</td>\n",
       "      <td>123.055</td>\n",
       "      <td>259.0</td>\n",
       "    </tr>\n",
       "  </tbody>\n",
       "</table>\n",
       "<p>5 rows × 21 columns</p>\n",
       "</div>"
      ],
      "text/plain": [
       "           track_name       artist_name  \\\n",
       "0             Hold On  Chord Overstreet   \n",
       "1           I'm Yours        Jason Mraz   \n",
       "2     I Won't Give Up        Jason Mraz   \n",
       "3  Come On Get Higher    Matt Nathanson   \n",
       "4           Love Song    Sara Bareilles   \n",
       "\n",
       "                                    album_name     genre  duration_ms  \\\n",
       "0                                      Hold On  acoustic       198853   \n",
       "1          We Sing. We Dance. We Steal Things.  acoustic       242186   \n",
       "2  Love Is a Four Letter Word (Deluxe Edition)  acoustic       240165   \n",
       "3                                Some Mad Hope  acoustic       215173   \n",
       "4                                 Little Voice  acoustic       258826   \n",
       "\n",
       "   popularity  explicit                track_id               artist_id  \\\n",
       "0          83         0  5vjLSffimiIP26QG5WcN2K  5D3muNJhYYunbRkh3FKgX0   \n",
       "1          83         0  1EzrEOXmMH3G43AXT1y7pA  4phGZZrJZRo4ElhRtViYdl   \n",
       "2          73         0  53QF56cjZA9RTuuMZDrSA6  4phGZZrJZRo4ElhRtViYdl   \n",
       "3          72         0  38YgZVHPWOWsKrsCXz6JyP  4NGiEU3Pkd8ASRyQR30jcA   \n",
       "4          75         0  4E6cwWJWZw2zWf7VFbH7wf  2Sqr0DXoaYABbjBo9HaMkM   \n",
       "\n",
       "   danceability  ...  key  loudness  mode  speechiness  acousticness  \\\n",
       "0         0.618  ...    2    -9.681     1       0.0526        0.4690   \n",
       "1         0.686  ...   11    -8.322     1       0.0468        0.5950   \n",
       "2         0.585  ...    4   -10.058     1       0.0398        0.6940   \n",
       "3         0.672  ...    9    -5.699     1       0.0297        0.2410   \n",
       "4         0.583  ...    2    -3.142     0       0.0301        0.0208   \n",
       "\n",
       "   instrumentalness  liveness  valence    tempo  duration_s  \n",
       "0               0.0    0.0829    0.167  119.949       199.0  \n",
       "1               0.0    0.1050    0.718  150.953       242.0  \n",
       "2               0.0    0.1150    0.142  136.703       240.0  \n",
       "3               0.0    0.0848    0.617   92.018       215.0  \n",
       "4               0.0    0.1880    0.573  123.055       259.0  \n",
       "\n",
       "[5 rows x 21 columns]"
      ]
     },
     "execution_count": 5,
     "metadata": {},
     "output_type": "execute_result"
    }
   ],
   "source": [
    "df.head()"
   ]
  },
  {
   "cell_type": "markdown",
   "metadata": {},
   "source": [
    "# Exploratory Data Analysis "
   ]
  },
  {
   "cell_type": "code",
   "execution_count": 6,
   "metadata": {},
   "outputs": [
    {
     "data": {
      "image/png": "[encoded data removed]",
      "text/plain": [
       "<Figure size 432x288 with 16 Axes>"
      ]
     },
     "metadata": {},
     "output_type": "display_data"
    }
   ],
   "source": [
    "pd.plotting.scatter_matrix(df[['danceability','energy','popularity','speechiness']])\n",
    "plt.tight_layout();"
   ]
  },
  {
   "cell_type": "code",
   "execution_count": 7,
   "metadata": {},
   "outputs": [
    {
     "data": {
      "text/plain": [
       "<matplotlib.collections.PathCollection at 0x7fc39bfb1790>"
      ]
     },
     "execution_count": 7,
     "metadata": {},
     "output_type": "execute_result"
    },
    {
     "data": {
      "image/png": "[encoded data removed]",
      "text/plain": [
       "<Figure size 432x288 with 1 Axes>"
      ]
     },
     "metadata": {},
     "output_type": "display_data"
    }
   ],
   "source": [
    "# Look for class imbalance across genres\n",
    "genre_TracksPer1000 = df.groupby('genre').count().track_name / 1000\n",
    "\n",
    "fig, ax = plt.subplots()\n",
    "ax.axes.xaxis.set_ticks([])\n",
    "\n",
    "ax.scatter(genre_TracksPer1000.index, genre_TracksPer1000.values)"
   ]
  },
  {
   "cell_type": "code",
   "execution_count": 8,
   "metadata": {},
   "outputs": [
    {
     "data": {
      "text/plain": [
       "genre\n",
       "reggaeton    0.012\n",
       "reggae       0.050\n",
       "latino       0.066\n",
       "indie-pop    0.085\n",
       "rock         0.126\n",
       "             ...  \n",
       "indian       0.968\n",
       "club         0.971\n",
       "bluegrass    0.971\n",
       "iranian      0.979\n",
       "comedy       0.985\n",
       "Name: track_name, Length: 112, dtype: float64"
      ]
     },
     "execution_count": 8,
     "metadata": {},
     "output_type": "execute_result"
    }
   ],
   "source": [
    "genre_TracksPer1000.sort_values()"
   ]
  },
  {
   "cell_type": "code",
   "execution_count": 9,
   "metadata": {},
   "outputs": [
    {
     "data": {
      "text/plain": [
       "0.266"
      ]
     },
     "execution_count": 9,
     "metadata": {},
     "output_type": "execute_result"
    }
   ],
   "source": [
    "genre_TracksPer1000['pop']"
   ]
  },
  {
   "cell_type": "code",
   "execution_count": 10,
   "metadata": {},
   "outputs": [
    {
     "data": {
      "text/plain": [
       "genre\n",
       "acoustic          0.949\n",
       "afrobeat          0.940\n",
       "alt-rock          0.967\n",
       "ambient           0.932\n",
       "anime             0.901\n",
       "black-metal       0.967\n",
       "bluegrass         0.971\n",
       "blues             0.846\n",
       "brazil            0.934\n",
       "breakbeat         0.911\n",
       "british           0.837\n",
       "cantopop          0.930\n",
       "chicago-house     0.930\n",
       "children          0.915\n",
       "chill             0.930\n",
       "classical         0.918\n",
       "club              0.971\n",
       "comedy            0.985\n",
       "country           0.903\n",
       "dance             0.848\n",
       "dancehall         0.910\n",
       "death-metal       0.875\n",
       "deep-house        0.946\n",
       "detroit-techno    0.949\n",
       "disco             0.820\n",
       "disney            0.889\n",
       "drum-and-bass     0.918\n",
       "dub               0.879\n",
       "emo               0.925\n",
       "forro             0.842\n",
       "gospel            0.867\n",
       "goth              0.858\n",
       "grindcore         0.940\n",
       "guitar            0.850\n",
       "happy             0.930\n",
       "hardstyle         0.889\n",
       "heavy-metal       0.955\n",
       "idm               0.949\n",
       "indian            0.968\n",
       "iranian           0.979\n",
       "j-idol            0.889\n",
       "k-pop             0.881\n",
       "kids              0.846\n",
       "malay             0.940\n",
       "minimal-techno    0.881\n",
       "new-age           0.946\n",
       "power-pop         0.825\n",
       "romance           0.932\n",
       "show-tunes        0.833\n",
       "sleep             0.914\n",
       "tango             0.921\n",
       "turkish           0.947\n",
       "Name: track_name, dtype: float64"
      ]
     },
     "execution_count": 10,
     "metadata": {},
     "output_type": "execute_result"
    }
   ],
   "source": [
    "genre_TracksPer1000[genre_TracksPer1000 > .8]"
   ]
  },
  {
   "cell_type": "code",
   "execution_count": 11,
   "metadata": {},
   "outputs": [
    {
     "data": {
      "text/plain": [
       "<BarContainer object of 5 artists>"
      ]
     },
     "execution_count": 11,
     "metadata": {},
     "output_type": "execute_result"
    },
    {
     "data": {
      "image/png": "[encoded data removed]",
      "text/plain": [
       "<Figure size 432x288 with 1 Axes>"
      ]
     },
     "metadata": {},
     "output_type": "display_data"
    }
   ],
   "source": [
    "popularity_avg_by_genre = df.groupby('genre').mean().popularity\n",
    "sorted_popularity_genre = popularity_avg_by_genre.sort_values(axis=0,ascending=False)\n",
    "\n",
    "fig, ax = plt.subplots()\n",
    "ax.bar(sorted_popularity_genre.index[:5],sorted_popularity_genre.values[:5])"
   ]
  },
  {
   "cell_type": "code",
   "execution_count": 12,
   "metadata": {},
   "outputs": [],
   "source": [
    "# Creating a dataframe of only popular genres with a large number of data points (>800) to mitigate class imbalance\n",
    "selected_genres=['acoustic','alt-rock','blues','classical',\n",
    "                 'country','dance','deep-house','disco',\n",
    "                 'hardstyle','heavy-metal','k-pop','tango']\n",
    "subset_df = df[df['genre'].isin(selected_genres)].copy()"
   ]
  },
  {
   "cell_type": "code",
   "execution_count": 13,
   "metadata": {},
   "outputs": [
    {
     "data": {
      "text/html": [
       "<div>\n",
       "<style scoped>\n",
       "    .dataframe tbody tr th:only-of-type {\n",
       "        vertical-align: middle;\n",
       "    }\n",
       "\n",
       "    .dataframe tbody tr th {\n",
       "        vertical-align: top;\n",
       "    }\n",
       "\n",
       "    .dataframe thead th {\n",
       "        text-align: right;\n",
       "    }\n",
       "</style>\n",
       "<table border=\"1\" class=\"dataframe\">\n",
       "  <thead>\n",
       "    <tr style=\"text-align: right;\">\n",
       "      <th></th>\n",
       "      <th>track_name</th>\n",
       "      <th>artist_name</th>\n",
       "      <th>album_name</th>\n",
       "      <th>genre</th>\n",
       "      <th>duration_ms</th>\n",
       "      <th>popularity</th>\n",
       "      <th>explicit</th>\n",
       "      <th>track_id</th>\n",
       "      <th>artist_id</th>\n",
       "      <th>danceability</th>\n",
       "      <th>...</th>\n",
       "      <th>key</th>\n",
       "      <th>loudness</th>\n",
       "      <th>mode</th>\n",
       "      <th>speechiness</th>\n",
       "      <th>acousticness</th>\n",
       "      <th>instrumentalness</th>\n",
       "      <th>liveness</th>\n",
       "      <th>valence</th>\n",
       "      <th>tempo</th>\n",
       "      <th>duration_s</th>\n",
       "    </tr>\n",
       "  </thead>\n",
       "  <tbody>\n",
       "    <tr>\n",
       "      <th>0</th>\n",
       "      <td>Hold On</td>\n",
       "      <td>Chord Overstreet</td>\n",
       "      <td>Hold On</td>\n",
       "      <td>acoustic</td>\n",
       "      <td>198853</td>\n",
       "      <td>83</td>\n",
       "      <td>0</td>\n",
       "      <td>5vjLSffimiIP26QG5WcN2K</td>\n",
       "      <td>5D3muNJhYYunbRkh3FKgX0</td>\n",
       "      <td>0.618</td>\n",
       "      <td>...</td>\n",
       "      <td>2</td>\n",
       "      <td>-9.681</td>\n",
       "      <td>1</td>\n",
       "      <td>0.0526</td>\n",
       "      <td>0.4690</td>\n",
       "      <td>0.0</td>\n",
       "      <td>0.0829</td>\n",
       "      <td>0.167</td>\n",
       "      <td>119.949</td>\n",
       "      <td>199.0</td>\n",
       "    </tr>\n",
       "    <tr>\n",
       "      <th>1</th>\n",
       "      <td>I'm Yours</td>\n",
       "      <td>Jason Mraz</td>\n",
       "      <td>We Sing. We Dance. We Steal Things.</td>\n",
       "      <td>acoustic</td>\n",
       "      <td>242186</td>\n",
       "      <td>83</td>\n",
       "      <td>0</td>\n",
       "      <td>1EzrEOXmMH3G43AXT1y7pA</td>\n",
       "      <td>4phGZZrJZRo4ElhRtViYdl</td>\n",
       "      <td>0.686</td>\n",
       "      <td>...</td>\n",
       "      <td>11</td>\n",
       "      <td>-8.322</td>\n",
       "      <td>1</td>\n",
       "      <td>0.0468</td>\n",
       "      <td>0.5950</td>\n",
       "      <td>0.0</td>\n",
       "      <td>0.1050</td>\n",
       "      <td>0.718</td>\n",
       "      <td>150.953</td>\n",
       "      <td>242.0</td>\n",
       "    </tr>\n",
       "    <tr>\n",
       "      <th>2</th>\n",
       "      <td>I Won't Give Up</td>\n",
       "      <td>Jason Mraz</td>\n",
       "      <td>Love Is a Four Letter Word (Deluxe Edition)</td>\n",
       "      <td>acoustic</td>\n",
       "      <td>240165</td>\n",
       "      <td>73</td>\n",
       "      <td>0</td>\n",
       "      <td>53QF56cjZA9RTuuMZDrSA6</td>\n",
       "      <td>4phGZZrJZRo4ElhRtViYdl</td>\n",
       "      <td>0.585</td>\n",
       "      <td>...</td>\n",
       "      <td>4</td>\n",
       "      <td>-10.058</td>\n",
       "      <td>1</td>\n",
       "      <td>0.0398</td>\n",
       "      <td>0.6940</td>\n",
       "      <td>0.0</td>\n",
       "      <td>0.1150</td>\n",
       "      <td>0.142</td>\n",
       "      <td>136.703</td>\n",
       "      <td>240.0</td>\n",
       "    </tr>\n",
       "    <tr>\n",
       "      <th>3</th>\n",
       "      <td>Come On Get Higher</td>\n",
       "      <td>Matt Nathanson</td>\n",
       "      <td>Some Mad Hope</td>\n",
       "      <td>acoustic</td>\n",
       "      <td>215173</td>\n",
       "      <td>72</td>\n",
       "      <td>0</td>\n",
       "      <td>38YgZVHPWOWsKrsCXz6JyP</td>\n",
       "      <td>4NGiEU3Pkd8ASRyQR30jcA</td>\n",
       "      <td>0.672</td>\n",
       "      <td>...</td>\n",
       "      <td>9</td>\n",
       "      <td>-5.699</td>\n",
       "      <td>1</td>\n",
       "      <td>0.0297</td>\n",
       "      <td>0.2410</td>\n",
       "      <td>0.0</td>\n",
       "      <td>0.0848</td>\n",
       "      <td>0.617</td>\n",
       "      <td>92.018</td>\n",
       "      <td>215.0</td>\n",
       "    </tr>\n",
       "    <tr>\n",
       "      <th>4</th>\n",
       "      <td>Love Song</td>\n",
       "      <td>Sara Bareilles</td>\n",
       "      <td>Little Voice</td>\n",
       "      <td>acoustic</td>\n",
       "      <td>258826</td>\n",
       "      <td>75</td>\n",
       "      <td>0</td>\n",
       "      <td>4E6cwWJWZw2zWf7VFbH7wf</td>\n",
       "      <td>2Sqr0DXoaYABbjBo9HaMkM</td>\n",
       "      <td>0.583</td>\n",
       "      <td>...</td>\n",
       "      <td>2</td>\n",
       "      <td>-3.142</td>\n",
       "      <td>0</td>\n",
       "      <td>0.0301</td>\n",
       "      <td>0.0208</td>\n",
       "      <td>0.0</td>\n",
       "      <td>0.1880</td>\n",
       "      <td>0.573</td>\n",
       "      <td>123.055</td>\n",
       "      <td>259.0</td>\n",
       "    </tr>\n",
       "  </tbody>\n",
       "</table>\n",
       "<p>5 rows × 21 columns</p>\n",
       "</div>"
      ],
      "text/plain": [
       "           track_name       artist_name  \\\n",
       "0             Hold On  Chord Overstreet   \n",
       "1           I'm Yours        Jason Mraz   \n",
       "2     I Won't Give Up        Jason Mraz   \n",
       "3  Come On Get Higher    Matt Nathanson   \n",
       "4           Love Song    Sara Bareilles   \n",
       "\n",
       "                                    album_name     genre  duration_ms  \\\n",
       "0                                      Hold On  acoustic       198853   \n",
       "1          We Sing. We Dance. We Steal Things.  acoustic       242186   \n",
       "2  Love Is a Four Letter Word (Deluxe Edition)  acoustic       240165   \n",
       "3                                Some Mad Hope  acoustic       215173   \n",
       "4                                 Little Voice  acoustic       258826   \n",
       "\n",
       "   popularity  explicit                track_id               artist_id  \\\n",
       "0          83         0  5vjLSffimiIP26QG5WcN2K  5D3muNJhYYunbRkh3FKgX0   \n",
       "1          83         0  1EzrEOXmMH3G43AXT1y7pA  4phGZZrJZRo4ElhRtViYdl   \n",
       "2          73         0  53QF56cjZA9RTuuMZDrSA6  4phGZZrJZRo4ElhRtViYdl   \n",
       "3          72         0  38YgZVHPWOWsKrsCXz6JyP  4NGiEU3Pkd8ASRyQR30jcA   \n",
       "4          75         0  4E6cwWJWZw2zWf7VFbH7wf  2Sqr0DXoaYABbjBo9HaMkM   \n",
       "\n",
       "   danceability  ...  key  loudness  mode  speechiness  acousticness  \\\n",
       "0         0.618  ...    2    -9.681     1       0.0526        0.4690   \n",
       "1         0.686  ...   11    -8.322     1       0.0468        0.5950   \n",
       "2         0.585  ...    4   -10.058     1       0.0398        0.6940   \n",
       "3         0.672  ...    9    -5.699     1       0.0297        0.2410   \n",
       "4         0.583  ...    2    -3.142     0       0.0301        0.0208   \n",
       "\n",
       "   instrumentalness  liveness  valence    tempo  duration_s  \n",
       "0               0.0    0.0829    0.167  119.949       199.0  \n",
       "1               0.0    0.1050    0.718  150.953       242.0  \n",
       "2               0.0    0.1150    0.142  136.703       240.0  \n",
       "3               0.0    0.0848    0.617   92.018       215.0  \n",
       "4               0.0    0.1880    0.573  123.055       259.0  \n",
       "\n",
       "[5 rows x 21 columns]"
      ]
     },
     "execution_count": 13,
     "metadata": {},
     "output_type": "execute_result"
    }
   ],
   "source": [
    "subset_df.head()"
   ]
  },
  {
   "cell_type": "code",
   "execution_count": 14,
   "metadata": {},
   "outputs": [
    {
     "data": {
      "text/plain": [
       "Index(['track_name', 'artist_name', 'album_name', 'genre', 'duration_ms',\n",
       "       'popularity', 'explicit', 'track_id', 'artist_id', 'danceability',\n",
       "       'energy', 'key', 'loudness', 'mode', 'speechiness', 'acousticness',\n",
       "       'instrumentalness', 'liveness', 'valence', 'tempo', 'duration_s'],\n",
       "      dtype='object')"
      ]
     },
     "execution_count": 14,
     "metadata": {},
     "output_type": "execute_result"
    }
   ],
   "source": [
    "subset_df.columns"
   ]
  },
  {
   "cell_type": "code",
   "execution_count": 15,
   "metadata": {},
   "outputs": [],
   "source": [
    "# Remove non-numeric or unnecessary rows\n",
    "subset_df.drop(['track_id','artist_id','duration_ms','track_name','artist_name','album_name'], axis=1, inplace=True)\n",
    "full_df = df.drop(['track_id','artist_id','duration_ms','track_name','artist_name','album_name'], axis=1)"
   ]
  },
  {
   "cell_type": "code",
   "execution_count": 16,
   "metadata": {},
   "outputs": [
    {
     "data": {
      "text/html": [
       "<div>\n",
       "<style scoped>\n",
       "    .dataframe tbody tr th:only-of-type {\n",
       "        vertical-align: middle;\n",
       "    }\n",
       "\n",
       "    .dataframe tbody tr th {\n",
       "        vertical-align: top;\n",
       "    }\n",
       "\n",
       "    .dataframe thead th {\n",
       "        text-align: right;\n",
       "    }\n",
       "</style>\n",
       "<table border=\"1\" class=\"dataframe\">\n",
       "  <thead>\n",
       "    <tr style=\"text-align: right;\">\n",
       "      <th></th>\n",
       "      <th>genre</th>\n",
       "      <th>popularity</th>\n",
       "      <th>explicit</th>\n",
       "      <th>danceability</th>\n",
       "      <th>energy</th>\n",
       "      <th>key</th>\n",
       "      <th>loudness</th>\n",
       "      <th>mode</th>\n",
       "      <th>speechiness</th>\n",
       "      <th>acousticness</th>\n",
       "      <th>instrumentalness</th>\n",
       "      <th>liveness</th>\n",
       "      <th>valence</th>\n",
       "      <th>tempo</th>\n",
       "      <th>duration_s</th>\n",
       "    </tr>\n",
       "  </thead>\n",
       "  <tbody>\n",
       "    <tr>\n",
       "      <th>0</th>\n",
       "      <td>acoustic</td>\n",
       "      <td>83</td>\n",
       "      <td>0</td>\n",
       "      <td>0.618</td>\n",
       "      <td>0.4430</td>\n",
       "      <td>2</td>\n",
       "      <td>-9.681</td>\n",
       "      <td>1</td>\n",
       "      <td>0.0526</td>\n",
       "      <td>0.4690</td>\n",
       "      <td>0.000000</td>\n",
       "      <td>0.0829</td>\n",
       "      <td>0.1670</td>\n",
       "      <td>119.949</td>\n",
       "      <td>199.0</td>\n",
       "    </tr>\n",
       "    <tr>\n",
       "      <th>1</th>\n",
       "      <td>acoustic</td>\n",
       "      <td>83</td>\n",
       "      <td>0</td>\n",
       "      <td>0.686</td>\n",
       "      <td>0.4570</td>\n",
       "      <td>11</td>\n",
       "      <td>-8.322</td>\n",
       "      <td>1</td>\n",
       "      <td>0.0468</td>\n",
       "      <td>0.5950</td>\n",
       "      <td>0.000000</td>\n",
       "      <td>0.1050</td>\n",
       "      <td>0.7180</td>\n",
       "      <td>150.953</td>\n",
       "      <td>242.0</td>\n",
       "    </tr>\n",
       "    <tr>\n",
       "      <th>2</th>\n",
       "      <td>acoustic</td>\n",
       "      <td>73</td>\n",
       "      <td>0</td>\n",
       "      <td>0.585</td>\n",
       "      <td>0.3030</td>\n",
       "      <td>4</td>\n",
       "      <td>-10.058</td>\n",
       "      <td>1</td>\n",
       "      <td>0.0398</td>\n",
       "      <td>0.6940</td>\n",
       "      <td>0.000000</td>\n",
       "      <td>0.1150</td>\n",
       "      <td>0.1420</td>\n",
       "      <td>136.703</td>\n",
       "      <td>240.0</td>\n",
       "    </tr>\n",
       "    <tr>\n",
       "      <th>3</th>\n",
       "      <td>acoustic</td>\n",
       "      <td>72</td>\n",
       "      <td>0</td>\n",
       "      <td>0.672</td>\n",
       "      <td>0.6230</td>\n",
       "      <td>9</td>\n",
       "      <td>-5.699</td>\n",
       "      <td>1</td>\n",
       "      <td>0.0297</td>\n",
       "      <td>0.2410</td>\n",
       "      <td>0.000000</td>\n",
       "      <td>0.0848</td>\n",
       "      <td>0.6170</td>\n",
       "      <td>92.018</td>\n",
       "      <td>215.0</td>\n",
       "    </tr>\n",
       "    <tr>\n",
       "      <th>4</th>\n",
       "      <td>acoustic</td>\n",
       "      <td>75</td>\n",
       "      <td>0</td>\n",
       "      <td>0.583</td>\n",
       "      <td>0.7860</td>\n",
       "      <td>2</td>\n",
       "      <td>-3.142</td>\n",
       "      <td>0</td>\n",
       "      <td>0.0301</td>\n",
       "      <td>0.0208</td>\n",
       "      <td>0.000000</td>\n",
       "      <td>0.1880</td>\n",
       "      <td>0.5730</td>\n",
       "      <td>123.055</td>\n",
       "      <td>259.0</td>\n",
       "    </tr>\n",
       "    <tr>\n",
       "      <th>...</th>\n",
       "      <td>...</td>\n",
       "      <td>...</td>\n",
       "      <td>...</td>\n",
       "      <td>...</td>\n",
       "      <td>...</td>\n",
       "      <td>...</td>\n",
       "      <td>...</td>\n",
       "      <td>...</td>\n",
       "      <td>...</td>\n",
       "      <td>...</td>\n",
       "      <td>...</td>\n",
       "      <td>...</td>\n",
       "      <td>...</td>\n",
       "      <td>...</td>\n",
       "      <td>...</td>\n",
       "    </tr>\n",
       "    <tr>\n",
       "      <th>74218</th>\n",
       "      <td>tango</td>\n",
       "      <td>17</td>\n",
       "      <td>0</td>\n",
       "      <td>0.412</td>\n",
       "      <td>0.3930</td>\n",
       "      <td>6</td>\n",
       "      <td>-10.250</td>\n",
       "      <td>0</td>\n",
       "      <td>0.0371</td>\n",
       "      <td>0.7020</td>\n",
       "      <td>0.085500</td>\n",
       "      <td>0.1600</td>\n",
       "      <td>0.5730</td>\n",
       "      <td>116.802</td>\n",
       "      <td>193.0</td>\n",
       "    </tr>\n",
       "    <tr>\n",
       "      <th>74219</th>\n",
       "      <td>tango</td>\n",
       "      <td>18</td>\n",
       "      <td>0</td>\n",
       "      <td>0.780</td>\n",
       "      <td>0.2770</td>\n",
       "      <td>2</td>\n",
       "      <td>-11.989</td>\n",
       "      <td>0</td>\n",
       "      <td>0.0456</td>\n",
       "      <td>0.6760</td>\n",
       "      <td>0.349000</td>\n",
       "      <td>0.1180</td>\n",
       "      <td>0.7760</td>\n",
       "      <td>135.662</td>\n",
       "      <td>173.0</td>\n",
       "    </tr>\n",
       "    <tr>\n",
       "      <th>74220</th>\n",
       "      <td>tango</td>\n",
       "      <td>13</td>\n",
       "      <td>0</td>\n",
       "      <td>0.235</td>\n",
       "      <td>0.3740</td>\n",
       "      <td>4</td>\n",
       "      <td>-11.206</td>\n",
       "      <td>0</td>\n",
       "      <td>0.0337</td>\n",
       "      <td>0.7280</td>\n",
       "      <td>0.000102</td>\n",
       "      <td>0.1870</td>\n",
       "      <td>0.3390</td>\n",
       "      <td>126.144</td>\n",
       "      <td>184.0</td>\n",
       "    </tr>\n",
       "    <tr>\n",
       "      <th>74221</th>\n",
       "      <td>tango</td>\n",
       "      <td>13</td>\n",
       "      <td>0</td>\n",
       "      <td>0.503</td>\n",
       "      <td>0.1510</td>\n",
       "      <td>0</td>\n",
       "      <td>-11.434</td>\n",
       "      <td>1</td>\n",
       "      <td>0.0437</td>\n",
       "      <td>0.9240</td>\n",
       "      <td>0.000019</td>\n",
       "      <td>0.1660</td>\n",
       "      <td>0.5260</td>\n",
       "      <td>118.682</td>\n",
       "      <td>184.0</td>\n",
       "    </tr>\n",
       "    <tr>\n",
       "      <th>74222</th>\n",
       "      <td>tango</td>\n",
       "      <td>17</td>\n",
       "      <td>0</td>\n",
       "      <td>0.146</td>\n",
       "      <td>0.0584</td>\n",
       "      <td>9</td>\n",
       "      <td>-19.674</td>\n",
       "      <td>0</td>\n",
       "      <td>0.0376</td>\n",
       "      <td>0.8660</td>\n",
       "      <td>0.008470</td>\n",
       "      <td>0.3430</td>\n",
       "      <td>0.0385</td>\n",
       "      <td>87.371</td>\n",
       "      <td>326.0</td>\n",
       "    </tr>\n",
       "  </tbody>\n",
       "</table>\n",
       "<p>10843 rows × 15 columns</p>\n",
       "</div>"
      ],
      "text/plain": [
       "          genre  popularity  explicit  danceability  energy  key  loudness  \\\n",
       "0      acoustic          83         0         0.618  0.4430    2    -9.681   \n",
       "1      acoustic          83         0         0.686  0.4570   11    -8.322   \n",
       "2      acoustic          73         0         0.585  0.3030    4   -10.058   \n",
       "3      acoustic          72         0         0.672  0.6230    9    -5.699   \n",
       "4      acoustic          75         0         0.583  0.7860    2    -3.142   \n",
       "...         ...         ...       ...           ...     ...  ...       ...   \n",
       "74218     tango          17         0         0.412  0.3930    6   -10.250   \n",
       "74219     tango          18         0         0.780  0.2770    2   -11.989   \n",
       "74220     tango          13         0         0.235  0.3740    4   -11.206   \n",
       "74221     tango          13         0         0.503  0.1510    0   -11.434   \n",
       "74222     tango          17         0         0.146  0.0584    9   -19.674   \n",
       "\n",
       "       mode  speechiness  acousticness  instrumentalness  liveness  valence  \\\n",
       "0         1       0.0526        0.4690          0.000000    0.0829   0.1670   \n",
       "1         1       0.0468        0.5950          0.000000    0.1050   0.7180   \n",
       "2         1       0.0398        0.6940          0.000000    0.1150   0.1420   \n",
       "3         1       0.0297        0.2410          0.000000    0.0848   0.6170   \n",
       "4         0       0.0301        0.0208          0.000000    0.1880   0.5730   \n",
       "...     ...          ...           ...               ...       ...      ...   \n",
       "74218     0       0.0371        0.7020          0.085500    0.1600   0.5730   \n",
       "74219     0       0.0456        0.6760          0.349000    0.1180   0.7760   \n",
       "74220     0       0.0337        0.7280          0.000102    0.1870   0.3390   \n",
       "74221     1       0.0437        0.9240          0.000019    0.1660   0.5260   \n",
       "74222     0       0.0376        0.8660          0.008470    0.3430   0.0385   \n",
       "\n",
       "         tempo  duration_s  \n",
       "0      119.949       199.0  \n",
       "1      150.953       242.0  \n",
       "2      136.703       240.0  \n",
       "3       92.018       215.0  \n",
       "4      123.055       259.0  \n",
       "...        ...         ...  \n",
       "74218  116.802       193.0  \n",
       "74219  135.662       173.0  \n",
       "74220  126.144       184.0  \n",
       "74221  118.682       184.0  \n",
       "74222   87.371       326.0  \n",
       "\n",
       "[10843 rows x 15 columns]"
      ]
     },
     "execution_count": 16,
     "metadata": {},
     "output_type": "execute_result"
    }
   ],
   "source": [
    "subset_df"
   ]
  },
  {
   "cell_type": "markdown",
   "metadata": {},
   "source": [
    "# Machine Learning"
   ]
  },
  {
   "cell_type": "markdown",
   "metadata": {},
   "source": [
    "I am stratifying all splits for the data since we have a slight class imbalance."
   ]
  },
  {
   "cell_type": "code",
   "execution_count": 18,
   "metadata": {},
   "outputs": [],
   "source": [
    "# Initialize Features and Target\n",
    "X = subset_df.copy()\n",
    "y = X.pop('genre')\n",
    "\n",
    "Xf = full_df.copy()\n",
    "yf = Xf.pop('genre')\n",
    "\n",
    "# Establish Train/Validation-Test split\n",
    "X_train_val, X_test, y_train_val, y_test = train_test_split(X, y, test_size=0.1, stratify=y)\n",
    "Xf_train_val, Xf_test, yf_train_val, yf_test = train_test_split(Xf, yf, test_size=0.1, stratify=yf)"
   ]
  },
  {
   "cell_type": "code",
   "execution_count": 19,
   "metadata": {},
   "outputs": [],
   "source": [
    "# Traditional train-test split\n",
    "X_train, X_val, y_train, y_val = train_test_split(X_train_val, y_train_val, test_size=0.2, stratify=y_train_val)\n",
    "Xf_train, Xf_val, yf_train, yf_val = train_test_split(Xf_train_val, yf_train_val, test_size=0.2, stratify=yf_train_val)"
   ]
  },
  {
   "cell_type": "code",
   "execution_count": 36,
   "metadata": {},
   "outputs": [
    {
     "name": "stdout",
     "output_type": "stream",
     "text": [
      "Class= acoustic, n= 949 (1.22%)\n",
      "Class= afrobeat, n= 940 (1.21%)\n",
      "Class= alt-rock, n= 967 (1.25%)\n",
      "Class= alternative, n= 404 (0.52%)\n",
      "Class= ambient, n= 932 (1.20%)\n",
      "Class= anime, n= 901 (1.16%)\n",
      "Class= black-metal, n= 967 (1.25%)\n",
      "Class= bluegrass, n= 971 (1.25%)\n",
      "Class= blues, n= 846 (1.09%)\n",
      "Class= brazil, n= 934 (1.20%)\n",
      "Class= breakbeat, n= 911 (1.17%)\n",
      "Class= british, n= 837 (1.08%)\n",
      "Class= cantopop, n= 930 (1.20%)\n",
      "Class= chicago-house, n= 930 (1.20%)\n",
      "Class= children, n= 915 (1.18%)\n",
      "Class= chill, n= 930 (1.20%)\n",
      "Class= classical, n= 918 (1.18%)\n",
      "Class= club, n= 971 (1.25%)\n",
      "Class= comedy, n= 985 (1.27%)\n",
      "Class= country, n= 903 (1.16%)\n",
      "Class= dance, n= 848 (1.09%)\n",
      "Class= dancehall, n= 910 (1.17%)\n",
      "Class= death-metal, n= 875 (1.13%)\n",
      "Class= deep-house, n= 946 (1.22%)\n",
      "Class= detroit-techno, n= 949 (1.22%)\n",
      "Class= disco, n= 820 (1.06%)\n",
      "Class= disney, n= 889 (1.15%)\n",
      "Class= drum-and-bass, n= 918 (1.18%)\n",
      "Class= dub, n= 879 (1.13%)\n",
      "Class= dubstep, n= 186 (0.24%)\n",
      "Class= edm, n= 643 (0.83%)\n",
      "Class= electro, n= 419 (0.54%)\n",
      "Class= electronic, n= 628 (0.81%)\n",
      "Class= emo, n= 925 (1.19%)\n",
      "Class= folk, n= 618 (0.80%)\n",
      "Class= forro, n= 842 (1.08%)\n",
      "Class= french, n= 758 (0.98%)\n",
      "Class= funk, n= 505 (0.65%)\n",
      "Class= garage, n= 791 (1.02%)\n",
      "Class= german, n= 523 (0.67%)\n",
      "Class= gospel, n= 867 (1.12%)\n",
      "Class= goth, n= 858 (1.11%)\n",
      "Class= grindcore, n= 940 (1.21%)\n",
      "Class= groove, n= 489 (0.63%)\n",
      "Class= grunge, n= 594 (0.77%)\n",
      "Class= guitar, n= 850 (1.09%)\n",
      "Class= happy, n= 930 (1.20%)\n",
      "Class= hard-rock, n= 542 (0.70%)\n",
      "Class= hardcore, n= 757 (0.98%)\n",
      "Class= hardstyle, n= 889 (1.15%)\n",
      "Class= heavy-metal, n= 955 (1.23%)\n",
      "Class= hip-hop, n= 678 (0.87%)\n",
      "Class= honky-tonk, n= 750 (0.97%)\n",
      "Class= house, n= 219 (0.28%)\n",
      "Class= idm, n= 949 (1.22%)\n",
      "Class= indian, n= 968 (1.25%)\n",
      "Class= indie, n= 298 (0.38%)\n",
      "Class= indie-pop, n= 85 (0.11%)\n",
      "Class= industrial, n= 710 (0.91%)\n",
      "Class= iranian, n= 979 (1.26%)\n",
      "Class= j-dance, n= 793 (1.02%)\n",
      "Class= j-idol, n= 889 (1.15%)\n",
      "Class= j-pop, n= 412 (0.53%)\n",
      "Class= j-rock, n= 420 (0.54%)\n",
      "Class= jazz, n= 533 (0.69%)\n",
      "Class= k-pop, n= 881 (1.13%)\n",
      "Class= kids, n= 846 (1.09%)\n",
      "Class= latin, n= 402 (0.52%)\n",
      "Class= latino, n= 66 (0.09%)\n",
      "Class= malay, n= 940 (1.21%)\n",
      "Class= mandopop, n= 778 (1.00%)\n",
      "Class= metal, n= 240 (0.31%)\n",
      "Class= metalcore, n= 570 (0.73%)\n",
      "Class= minimal-techno, n= 881 (1.13%)\n",
      "Class= mpb, n= 564 (0.73%)\n",
      "Class= new-age, n= 946 (1.22%)\n",
      "Class= opera, n= 781 (1.01%)\n",
      "Class= pagode, n= 783 (1.01%)\n",
      "Class= party, n= 344 (0.44%)\n",
      "Class= piano, n= 720 (0.93%)\n",
      "Class= pop, n= 266 (0.34%)\n",
      "Class= pop-film, n= 700 (0.90%)\n",
      "Class= power-pop, n= 825 (1.06%)\n",
      "Class= progressive-house, n= 622 (0.80%)\n",
      "Class= psych-rock, n= 301 (0.39%)\n",
      "Class= punk, n= 349 (0.45%)\n",
      "Class= punk-rock, n= 267 (0.34%)\n",
      "Class= r-n-b, n= 520 (0.67%)\n",
      "Class= reggae, n= 50 (0.06%)\n",
      "Class= reggaeton, n= 12 (0.02%)\n",
      "Class= rock, n= 126 (0.16%)\n",
      "Class= rock-n-roll, n= 630 (0.81%)\n",
      "Class= rockabilly, n= 353 (0.45%)\n",
      "Class= romance, n= 932 (1.20%)\n",
      "Class= sad, n= 763 (0.98%)\n",
      "Class= salsa, n= 608 (0.78%)\n",
      "Class= samba, n= 360 (0.46%)\n",
      "Class= sertanejo, n= 463 (0.60%)\n",
      "Class= show-tunes, n= 833 (1.07%)\n",
      "Class= singer-songwriter, n= 511 (0.66%)\n",
      "Class= ska, n= 563 (0.73%)\n",
      "Class= sleep, n= 914 (1.18%)\n",
      "Class= soul, n= 281 (0.36%)\n",
      "Class= spanish, n= 778 (1.00%)\n",
      "Class= swedish, n= 613 (0.79%)\n",
      "Class= synth-pop, n= 653 (0.84%)\n",
      "Class= tango, n= 921 (1.19%)\n",
      "Class= techno, n= 387 (0.50%)\n",
      "Class= trance, n= 544 (0.70%)\n",
      "Class= trip-hop, n= 777 (1.00%)\n",
      "Class= turkish, n= 947 (1.22%)\n",
      "Class= world-music, n= 751 (0.97%)\n"
     ]
    },
    {
     "data": {
      "text/plain": [
       "<BarContainer object of 112 artists>"
      ]
     },
     "execution_count": 36,
     "metadata": {},
     "output_type": "execute_result"
    },
    {
     "data": {
      "image/png": "[encoded data removed]",
      "text/plain": [
       "<Figure size 432x288 with 1 Axes>"
      ]
     },
     "metadata": {},
     "output_type": "display_data"
    }
   ],
   "source": [
    "# view class imbalance in full dataset\n",
    "counter = Counter(yf)\n",
    "for k,v in counter.items():\n",
    "    per = v / len(yf) * 100\n",
    "    print(f'Class= {k}, n= {v} ({per:.2f}%)')\n",
    "    \n",
    "fig, ax = plt.subplots()\n",
    "ax.bar(counter.keys(), counter.values())"
   ]
  },
  {
   "cell_type": "markdown",
   "metadata": {},
   "source": [
    "## Dummy Classifier"
   ]
  },
  {
   "cell_type": "code",
   "execution_count": 21,
   "metadata": {},
   "outputs": [
    {
     "name": "stdout",
     "output_type": "stream",
     "text": [
      "0.08299180327868852\n",
      "0.00894518391298125\n"
     ]
    }
   ],
   "source": [
    "# Dummy Classifier\n",
    "dummy = DummyClassifier()\n",
    "dummy.fit(X_train, y_train)\n",
    "print(dummy.score(X_val, y_val))\n",
    "\n",
    "dummyf = DummyClassifier()\n",
    "dummyf.fit(Xf_train, yf_train)\n",
    "print(dummyf.score(Xf_val, yf_val))"
   ]
  },
  {
   "cell_type": "markdown",
   "metadata": {},
   "source": [
    "## kNN"
   ]
  },
  {
   "cell_type": "code",
   "execution_count": 24,
   "metadata": {},
   "outputs": [
    {
     "name": "stdout",
     "output_type": "stream",
     "text": [
      "0.49026639344262296\n",
      "0.13009875483039932\n"
     ]
    }
   ],
   "source": [
    "# Out of box score\n",
    "knn_clf = KNeighborsClassifier()\n",
    "knn_clf.fit(X_train, y_train)\n",
    "print(knn_clf.score(X_val, y_val))\n",
    "\n",
    "knn_clf = KNeighborsClassifier()\n",
    "knn_clf.fit(Xf_train, yf_train)\n",
    "print(knn_clf.score(Xf_val, yf_val))"
   ]
  },
  {
   "cell_type": "code",
   "execution_count": 39,
   "metadata": {},
   "outputs": [
    {
     "name": "stdout",
     "output_type": "stream",
     "text": [
      "best k = 8, accuracy = 0.5087090163934426\n"
     ]
    }
   ],
   "source": [
    "# Look at different numbers of nearest neighbors\n",
    "max_k = 0\n",
    "max_score = 0\n",
    "for k in range(1,50):\n",
    "    classifier = KNeighborsClassifier(n_neighbors=k)\n",
    "    classifier.fit(X_train, y_train)\n",
    "    score = classifier.score(X_val, y_val)\n",
    "    # print(f'k = {k}, accuracy = {score}')\n",
    "    if score > max_score:\n",
    "        max_k = k\n",
    "        max_score = score\n",
    "        \n",
    "print(f'best k = {max_k}, accuracy = {max_score}')"
   ]
  },
  {
   "cell_type": "code",
   "execution_count": 40,
   "metadata": {},
   "outputs": [
    {
     "name": "stdout",
     "output_type": "stream",
     "text": [
      "best k = 36, accuracy = 0.16451982252755118\n"
     ]
    }
   ],
   "source": [
    "# Look at different numbers of nearest neighbors\n",
    "max_k = 0\n",
    "max_score = 0\n",
    "for k in range(1,50):\n",
    "    classifier = KNeighborsClassifier(n_neighbors=k)\n",
    "    classifier.fit(Xf_train, yf_train)\n",
    "    score = classifier.score(Xf_val, yf_val)\n",
    "    # print(f'k = {k}, accuracy = {score}')\n",
    "    if score > max_score:\n",
    "        max_k = k\n",
    "        max_score = score\n",
    "        \n",
    "print(f'best k = {max_k}, accuracy = {max_score}')"
   ]
  },
  {
   "cell_type": "code",
   "execution_count": 45,
   "metadata": {},
   "outputs": [],
   "source": [
    "def cross_val(X_train, y_train, k=3, n=8):\n",
    "    '''\n",
    "    Returns accuracy for stratified k-fold cross validation.\n",
    "    Stratified K-fold is used since we have many classes and\n",
    "    we want to preserve some amount of each class in each split.\n",
    "    '''\n",
    "    skf = StratifiedKFold(n_splits=k)\n",
    "    accuracy = np.empty(k)\n",
    "    \n",
    "    for i, (train, test) in enumerate(skf.split(X_train, y_train)):\n",
    "        classifier = KNeighborsClassifier(n_neighbors=n)\n",
    "        classifier.fit(X_train.iloc[train], y_train.iloc[train])\n",
    "        accuracy[i] = classifier.score(X_train.iloc[test],y_train.iloc[test])\n",
    "        \n",
    "    return np.mean(accuracy)"
   ]
  },
  {
   "cell_type": "code",
   "execution_count": 46,
   "metadata": {},
   "outputs": [
    {
     "data": {
      "text/plain": [
       "0.494748515553164"
      ]
     },
     "execution_count": 46,
     "metadata": {},
     "output_type": "execute_result"
    }
   ],
   "source": [
    "cross_val(X_train, y_train, k=5)"
   ]
  },
  {
   "cell_type": "code",
   "execution_count": 47,
   "metadata": {},
   "outputs": [
    {
     "data": {
      "text/plain": [
       "0.15930727346092508"
      ]
     },
     "execution_count": 47,
     "metadata": {},
     "output_type": "execute_result"
    }
   ],
   "source": [
    "cross_val(Xf_train, yf_train, k=5, n=36)"
   ]
  },
  {
   "cell_type": "code",
   "execution_count": 24,
   "metadata": {},
   "outputs": [
    {
     "data": {
      "text/plain": [
       "0.5005077317049148"
      ]
     },
     "execution_count": 24,
     "metadata": {},
     "output_type": "execute_result"
    }
   ],
   "source": [
    "cross_val(X_train, y_train, k=10)"
   ]
  },
  {
   "cell_type": "code",
   "execution_count": 25,
   "metadata": {},
   "outputs": [
    {
     "data": {
      "text/plain": [
       "0.5008918617614271"
      ]
     },
     "execution_count": 25,
     "metadata": {},
     "output_type": "execute_result"
    }
   ],
   "source": [
    "cross_val(X_train, y_train, k=20)"
   ]
  },
  {
   "cell_type": "code",
   "execution_count": 27,
   "metadata": {},
   "outputs": [
    {
     "data": {
      "image/png": "[encoded data removed]",
      "text/plain": [
       "<Figure size 2000x1600 with 1 Axes>"
      ]
     },
     "metadata": {},
     "output_type": "display_data"
    }
   ],
   "source": [
    "# Plot cross-validation scores for different numbers of\n",
    "# nearest neighbors with 10 kfolds\n",
    "cv_scores = []\n",
    "max_score = 0\n",
    "max_n = 0\n",
    "for n in range(1,100):\n",
    "    cv_score = cross_val(X_train, y_train, k=10, n=n)\n",
    "    cv_scores.append(cv_score)\n",
    "    if cv_score > max_score:\n",
    "        max_score = cv_score\n",
    "        max_n = n\n",
    "\n",
    "\n",
    "fig, ax = plt.subplots(figsize=(10,8), dpi=200)    \n",
    "ax.plot(list(range(1,100)),cv_scores)\n",
    "ax.axvline(max_n, linestyle='--',c='k',alpha=0.5)\n",
    "ax.text(max_n+4, max_score-0.0025,\n",
    "        s=f'best n: {max_n}\\nhighest accuracy: {max_score:.2f}',\n",
    "        fontsize=12)\n",
    "ax.set_xlabel('k Nearest Neighbors', fontsize=14)\n",
    "ax.set_ylabel('Accuracy', fontsize=14)\n",
    "ax.tick_params(axis='both',which='major',labelsize=10)\n",
    "ax.set_title('Test Accuracy vs k Nearest Neighbors', fontsize=14);\n",
    "\n",
    "# plt.savefig('../imgs/accuracy_vs_nearestneighbors.png')"
   ]
  },
  {
   "cell_type": "markdown",
   "metadata": {},
   "source": [
    "## Logistic Regression"
   ]
  },
  {
   "cell_type": "code",
   "execution_count": 25,
   "metadata": {},
   "outputs": [
    {
     "name": "stderr",
     "output_type": "stream",
     "text": [
      "/Users/ken/opt/anaconda3/lib/python3.7/site-packages/sklearn/linear_model/_logistic.py:764: ConvergenceWarning: lbfgs failed to converge (status=1):\n",
      "STOP: TOTAL NO. of ITERATIONS REACHED LIMIT.\n",
      "\n",
      "Increase the number of iterations (max_iter) or scale the data as shown in:\n",
      "    https://scikit-learn.org/stable/modules/preprocessing.html\n",
      "Please also refer to the documentation for alternative solver options:\n",
      "    https://scikit-learn.org/stable/modules/linear_model.html#logistic-regression\n",
      "  extra_warning_msg=_LOGISTIC_SOLVER_CONVERGENCE_MSG)\n"
     ]
    },
    {
     "name": "stdout",
     "output_type": "stream",
     "text": [
      "Accuracy = 0.444672131147541\n",
      "Accuracy = 0.11456991555746386\n"
     ]
    },
    {
     "name": "stderr",
     "output_type": "stream",
     "text": [
      "/Users/ken/opt/anaconda3/lib/python3.7/site-packages/sklearn/linear_model/_logistic.py:764: ConvergenceWarning: lbfgs failed to converge (status=1):\n",
      "STOP: TOTAL NO. of ITERATIONS REACHED LIMIT.\n",
      "\n",
      "Increase the number of iterations (max_iter) or scale the data as shown in:\n",
      "    https://scikit-learn.org/stable/modules/preprocessing.html\n",
      "Please also refer to the documentation for alternative solver options:\n",
      "    https://scikit-learn.org/stable/modules/linear_model.html#logistic-regression\n",
      "  extra_warning_msg=_LOGISTIC_SOLVER_CONVERGENCE_MSG)\n"
     ]
    }
   ],
   "source": [
    "# Out of Box score\n",
    "log_clf = LogisticRegression()\n",
    "log_clf.fit(X_train, y_train)\n",
    "score = log_clf.score(X_val, y_val)\n",
    "print(f'Accuracy = {score}')\n",
    "\n",
    "log_clf = LogisticRegression()\n",
    "log_clf.fit(Xf_train, yf_train)\n",
    "score = log_clf.score(Xf_val, yf_val)\n",
    "print(f'Accuracy = {score}')"
   ]
  },
  {
   "cell_type": "code",
   "execution_count": 34,
   "metadata": {},
   "outputs": [
    {
     "name": "stdout",
     "output_type": "stream",
     "text": [
      "Accuracy = 0.6403688524590164\n"
     ]
    }
   ],
   "source": [
    "# One versus rest (OVR) classification\n",
    "log_clf = LogisticRegression(multi_class='ovr',max_iter=10000)\n",
    "log_clf.fit(X_train, y_train)\n",
    "score = log_clf.score(X_val, y_val)\n",
    "print(f'Accuracy = {score}')"
   ]
  },
  {
   "cell_type": "code",
   "execution_count": 31,
   "metadata": {},
   "outputs": [
    {
     "name": "stdout",
     "output_type": "stream",
     "text": [
      "Accuracy = 0.6644467213114754\n"
     ]
    },
    {
     "name": "stderr",
     "output_type": "stream",
     "text": [
      "/Users/ken/opt/anaconda3/lib/python3.7/site-packages/sklearn/linear_model/_logistic.py:764: ConvergenceWarning: lbfgs failed to converge (status=1):\n",
      "STOP: TOTAL NO. of ITERATIONS REACHED LIMIT.\n",
      "\n",
      "Increase the number of iterations (max_iter) or scale the data as shown in:\n",
      "    https://scikit-learn.org/stable/modules/preprocessing.html\n",
      "Please also refer to the documentation for alternative solver options:\n",
      "    https://scikit-learn.org/stable/modules/linear_model.html#logistic-regression\n",
      "  extra_warning_msg=_LOGISTIC_SOLVER_CONVERGENCE_MSG)\n"
     ]
    }
   ],
   "source": [
    "# Multinomial classification\n",
    "log_clf = LogisticRegression(multi_class='multinomial',max_iter=10000)\n",
    "log_clf.fit(X_train, y_train)\n",
    "score = log_clf.score(X_val, y_val)\n",
    "print(f'Accuracy = {score}')"
   ]
  },
  {
   "cell_type": "markdown",
   "metadata": {},
   "source": [
    "## Gradient Boosting"
   ]
  },
  {
   "cell_type": "code",
   "execution_count": 57,
   "metadata": {},
   "outputs": [
    {
     "data": {
      "text/plain": [
       "0.7443647540983607"
      ]
     },
     "execution_count": 57,
     "metadata": {},
     "output_type": "execute_result"
    }
   ],
   "source": [
    "# Out of box score\n",
    "gb = GradientBoostingClassifier()\n",
    "gb.fit(X_train, y_train)\n",
    "gb.score(X_val, y_val)"
   ]
  },
  {
   "cell_type": "code",
   "execution_count": 59,
   "metadata": {},
   "outputs": [
    {
     "data": {
      "text/plain": [
       "array([0.73155738, 0.7505123 , 0.72745902, 0.73141978, 0.7457714 ])"
      ]
     },
     "execution_count": 59,
     "metadata": {},
     "output_type": "execute_result"
    }
   ],
   "source": [
    "gb = GradientBoostingClassifier(n_estimators=200,learning_rate=.1)\n",
    "gb.fit(X_train,y_train)\n",
    "cross_val_score(estimator=gb,X=X_train_val,y=y_train_val,scoring='accuracy',cv=5)"
   ]
  },
  {
   "cell_type": "code",
   "execution_count": null,
   "metadata": {},
   "outputs": [],
   "source": []
  }
 ],
 "metadata": {
  "kernelspec": {
   "display_name": "Python 3",
   "language": "python",
   "name": "python3"
  },
  "language_info": {
   "codemirror_mode": {
    "name": "ipython",
    "version": 3
   },
   "file_extension": ".py",
   "mimetype": "text/x-python",
   "name": "python",
   "nbconvert_exporter": "python",
   "pygments_lexer": "ipython3",
   "version": "3.7.9"
  }
 },
 "nbformat": 4,
 "nbformat_minor": 4
}
