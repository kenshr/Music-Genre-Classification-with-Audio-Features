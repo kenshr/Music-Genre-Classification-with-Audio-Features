{
 "cells": [
  {
   "cell_type": "code",
   "execution_count": 28,
   "metadata": {},
   "outputs": [],
   "source": [
    "# imports\n",
    "import numpy as np\n",
    "import pandas as pd\n",
    "import matplotlib.pyplot as plt\n",
    "import scipy.stats as stats\n",
    "\n",
    "from sklearn.model_selection import train_test_split, GridSearchCV, KFold, StratifiedKFold\n",
    "from sklearn.metrics import mean_squared_error\n",
    "from sklearn.tree import DecisionTreeClassifier\n",
    "from sklearn.ensemble import RandomForestClassifier, GradientBoostingRegressor\n",
    "from sklearn.neighbors import KNeighborsClassifier\n",
    "from sklearn.dummy import DummyClassifier\n",
    "from sklearn.linear_model import LogisticRegression, LinearRegression\n",
    "\n",
    "%matplotlib inline\n",
    "plt.style.use('ggplot')"
   ]
  },
  {
   "cell_type": "code",
   "execution_count": 2,
   "metadata": {},
   "outputs": [],
   "source": [
    "df = pd.read_csv('../data/track_audio_dataset_no_lyrics.csv', index_col=0)"
   ]
  },
  {
   "cell_type": "code",
   "execution_count": 3,
   "metadata": {},
   "outputs": [
    {
     "name": "stdout",
     "output_type": "stream",
     "text": [
      "<class 'pandas.core.frame.DataFrame'>\n",
      "Int64Index: 77629 entries, 0 to 77628\n",
      "Data columns (total 20 columns):\n",
      " #   Column            Non-Null Count  Dtype  \n",
      "---  ------            --------------  -----  \n",
      " 0   track_name        77629 non-null  object \n",
      " 1   artist_name       77629 non-null  object \n",
      " 2   album_name        77629 non-null  object \n",
      " 3   genre             77629 non-null  object \n",
      " 4   duration_ms       77629 non-null  int64  \n",
      " 5   popularity        77629 non-null  int64  \n",
      " 6   explicit          77629 non-null  bool   \n",
      " 7   track_id          77629 non-null  object \n",
      " 8   artist_id         77629 non-null  object \n",
      " 9   danceability      77629 non-null  float64\n",
      " 10  energy            77629 non-null  float64\n",
      " 11  key               77629 non-null  int64  \n",
      " 12  loudness          77629 non-null  float64\n",
      " 13  mode              77629 non-null  int64  \n",
      " 14  speechiness       77629 non-null  float64\n",
      " 15  acousticness      77629 non-null  float64\n",
      " 16  instrumentalness  77629 non-null  float64\n",
      " 17  liveness          77629 non-null  float64\n",
      " 18  valence           77629 non-null  float64\n",
      " 19  tempo             77629 non-null  float64\n",
      "dtypes: bool(1), float64(9), int64(4), object(6)\n",
      "memory usage: 11.9+ MB\n"
     ]
    }
   ],
   "source": [
    "df.info()"
   ]
  },
  {
   "cell_type": "markdown",
   "metadata": {},
   "source": [
    "# Data Cleaning"
   ]
  },
  {
   "cell_type": "code",
   "execution_count": 4,
   "metadata": {},
   "outputs": [],
   "source": [
    "# Replace booleans with integers\n",
    "df.explicit = df.explicit.astype(int)\n",
    "\n",
    "# Convert from milliseconds to seconds\n",
    "df['duration_s'] = np.round(df.duration_ms/1000,0)"
   ]
  },
  {
   "cell_type": "code",
   "execution_count": 5,
   "metadata": {},
   "outputs": [
    {
     "data": {
      "text/html": [
       "<div>\n",
       "<style scoped>\n",
       "    .dataframe tbody tr th:only-of-type {\n",
       "        vertical-align: middle;\n",
       "    }\n",
       "\n",
       "    .dataframe tbody tr th {\n",
       "        vertical-align: top;\n",
       "    }\n",
       "\n",
       "    .dataframe thead th {\n",
       "        text-align: right;\n",
       "    }\n",
       "</style>\n",
       "<table border=\"1\" class=\"dataframe\">\n",
       "  <thead>\n",
       "    <tr style=\"text-align: right;\">\n",
       "      <th></th>\n",
       "      <th>track_name</th>\n",
       "      <th>artist_name</th>\n",
       "      <th>album_name</th>\n",
       "      <th>genre</th>\n",
       "      <th>duration_ms</th>\n",
       "      <th>popularity</th>\n",
       "      <th>explicit</th>\n",
       "      <th>track_id</th>\n",
       "      <th>artist_id</th>\n",
       "      <th>danceability</th>\n",
       "      <th>...</th>\n",
       "      <th>key</th>\n",
       "      <th>loudness</th>\n",
       "      <th>mode</th>\n",
       "      <th>speechiness</th>\n",
       "      <th>acousticness</th>\n",
       "      <th>instrumentalness</th>\n",
       "      <th>liveness</th>\n",
       "      <th>valence</th>\n",
       "      <th>tempo</th>\n",
       "      <th>duration_s</th>\n",
       "    </tr>\n",
       "  </thead>\n",
       "  <tbody>\n",
       "    <tr>\n",
       "      <th>0</th>\n",
       "      <td>Hold On</td>\n",
       "      <td>Chord Overstreet</td>\n",
       "      <td>Hold On</td>\n",
       "      <td>acoustic</td>\n",
       "      <td>198853</td>\n",
       "      <td>83</td>\n",
       "      <td>0</td>\n",
       "      <td>5vjLSffimiIP26QG5WcN2K</td>\n",
       "      <td>5D3muNJhYYunbRkh3FKgX0</td>\n",
       "      <td>0.618</td>\n",
       "      <td>...</td>\n",
       "      <td>2</td>\n",
       "      <td>-9.681</td>\n",
       "      <td>1</td>\n",
       "      <td>0.0526</td>\n",
       "      <td>0.4690</td>\n",
       "      <td>0.0</td>\n",
       "      <td>0.0829</td>\n",
       "      <td>0.167</td>\n",
       "      <td>119.949</td>\n",
       "      <td>199.0</td>\n",
       "    </tr>\n",
       "    <tr>\n",
       "      <th>1</th>\n",
       "      <td>I'm Yours</td>\n",
       "      <td>Jason Mraz</td>\n",
       "      <td>We Sing. We Dance. We Steal Things.</td>\n",
       "      <td>acoustic</td>\n",
       "      <td>242186</td>\n",
       "      <td>83</td>\n",
       "      <td>0</td>\n",
       "      <td>1EzrEOXmMH3G43AXT1y7pA</td>\n",
       "      <td>4phGZZrJZRo4ElhRtViYdl</td>\n",
       "      <td>0.686</td>\n",
       "      <td>...</td>\n",
       "      <td>11</td>\n",
       "      <td>-8.322</td>\n",
       "      <td>1</td>\n",
       "      <td>0.0468</td>\n",
       "      <td>0.5950</td>\n",
       "      <td>0.0</td>\n",
       "      <td>0.1050</td>\n",
       "      <td>0.718</td>\n",
       "      <td>150.953</td>\n",
       "      <td>242.0</td>\n",
       "    </tr>\n",
       "    <tr>\n",
       "      <th>2</th>\n",
       "      <td>I Won't Give Up</td>\n",
       "      <td>Jason Mraz</td>\n",
       "      <td>Love Is a Four Letter Word (Deluxe Edition)</td>\n",
       "      <td>acoustic</td>\n",
       "      <td>240165</td>\n",
       "      <td>73</td>\n",
       "      <td>0</td>\n",
       "      <td>53QF56cjZA9RTuuMZDrSA6</td>\n",
       "      <td>4phGZZrJZRo4ElhRtViYdl</td>\n",
       "      <td>0.585</td>\n",
       "      <td>...</td>\n",
       "      <td>4</td>\n",
       "      <td>-10.058</td>\n",
       "      <td>1</td>\n",
       "      <td>0.0398</td>\n",
       "      <td>0.6940</td>\n",
       "      <td>0.0</td>\n",
       "      <td>0.1150</td>\n",
       "      <td>0.142</td>\n",
       "      <td>136.703</td>\n",
       "      <td>240.0</td>\n",
       "    </tr>\n",
       "    <tr>\n",
       "      <th>3</th>\n",
       "      <td>Come On Get Higher</td>\n",
       "      <td>Matt Nathanson</td>\n",
       "      <td>Some Mad Hope</td>\n",
       "      <td>acoustic</td>\n",
       "      <td>215173</td>\n",
       "      <td>72</td>\n",
       "      <td>0</td>\n",
       "      <td>38YgZVHPWOWsKrsCXz6JyP</td>\n",
       "      <td>4NGiEU3Pkd8ASRyQR30jcA</td>\n",
       "      <td>0.672</td>\n",
       "      <td>...</td>\n",
       "      <td>9</td>\n",
       "      <td>-5.699</td>\n",
       "      <td>1</td>\n",
       "      <td>0.0297</td>\n",
       "      <td>0.2410</td>\n",
       "      <td>0.0</td>\n",
       "      <td>0.0848</td>\n",
       "      <td>0.617</td>\n",
       "      <td>92.018</td>\n",
       "      <td>215.0</td>\n",
       "    </tr>\n",
       "    <tr>\n",
       "      <th>4</th>\n",
       "      <td>Love Song</td>\n",
       "      <td>Sara Bareilles</td>\n",
       "      <td>Little Voice</td>\n",
       "      <td>acoustic</td>\n",
       "      <td>258826</td>\n",
       "      <td>75</td>\n",
       "      <td>0</td>\n",
       "      <td>4E6cwWJWZw2zWf7VFbH7wf</td>\n",
       "      <td>2Sqr0DXoaYABbjBo9HaMkM</td>\n",
       "      <td>0.583</td>\n",
       "      <td>...</td>\n",
       "      <td>2</td>\n",
       "      <td>-3.142</td>\n",
       "      <td>0</td>\n",
       "      <td>0.0301</td>\n",
       "      <td>0.0208</td>\n",
       "      <td>0.0</td>\n",
       "      <td>0.1880</td>\n",
       "      <td>0.573</td>\n",
       "      <td>123.055</td>\n",
       "      <td>259.0</td>\n",
       "    </tr>\n",
       "  </tbody>\n",
       "</table>\n",
       "<p>5 rows × 21 columns</p>\n",
       "</div>"
      ],
      "text/plain": [
       "           track_name       artist_name  \\\n",
       "0             Hold On  Chord Overstreet   \n",
       "1           I'm Yours        Jason Mraz   \n",
       "2     I Won't Give Up        Jason Mraz   \n",
       "3  Come On Get Higher    Matt Nathanson   \n",
       "4           Love Song    Sara Bareilles   \n",
       "\n",
       "                                    album_name     genre  duration_ms  \\\n",
       "0                                      Hold On  acoustic       198853   \n",
       "1          We Sing. We Dance. We Steal Things.  acoustic       242186   \n",
       "2  Love Is a Four Letter Word (Deluxe Edition)  acoustic       240165   \n",
       "3                                Some Mad Hope  acoustic       215173   \n",
       "4                                 Little Voice  acoustic       258826   \n",
       "\n",
       "   popularity  explicit                track_id               artist_id  \\\n",
       "0          83         0  5vjLSffimiIP26QG5WcN2K  5D3muNJhYYunbRkh3FKgX0   \n",
       "1          83         0  1EzrEOXmMH3G43AXT1y7pA  4phGZZrJZRo4ElhRtViYdl   \n",
       "2          73         0  53QF56cjZA9RTuuMZDrSA6  4phGZZrJZRo4ElhRtViYdl   \n",
       "3          72         0  38YgZVHPWOWsKrsCXz6JyP  4NGiEU3Pkd8ASRyQR30jcA   \n",
       "4          75         0  4E6cwWJWZw2zWf7VFbH7wf  2Sqr0DXoaYABbjBo9HaMkM   \n",
       "\n",
       "   danceability  ...  key  loudness  mode  speechiness  acousticness  \\\n",
       "0         0.618  ...    2    -9.681     1       0.0526        0.4690   \n",
       "1         0.686  ...   11    -8.322     1       0.0468        0.5950   \n",
       "2         0.585  ...    4   -10.058     1       0.0398        0.6940   \n",
       "3         0.672  ...    9    -5.699     1       0.0297        0.2410   \n",
       "4         0.583  ...    2    -3.142     0       0.0301        0.0208   \n",
       "\n",
       "   instrumentalness  liveness  valence    tempo  duration_s  \n",
       "0               0.0    0.0829    0.167  119.949       199.0  \n",
       "1               0.0    0.1050    0.718  150.953       242.0  \n",
       "2               0.0    0.1150    0.142  136.703       240.0  \n",
       "3               0.0    0.0848    0.617   92.018       215.0  \n",
       "4               0.0    0.1880    0.573  123.055       259.0  \n",
       "\n",
       "[5 rows x 21 columns]"
      ]
     },
     "execution_count": 5,
     "metadata": {},
     "output_type": "execute_result"
    }
   ],
   "source": [
    "df.head()"
   ]
  },
  {
   "cell_type": "markdown",
   "metadata": {},
   "source": [
    "# Exploratory Data Analysis "
   ]
  },
  {
   "cell_type": "code",
   "execution_count": 6,
   "metadata": {},
   "outputs": [
    {
     "data": {
      "image/png": "[encoded data removed]",
      "text/plain": [
       "<Figure size 432x288 with 16 Axes>"
      ]
     },
     "metadata": {},
     "output_type": "display_data"
    }
   ],
   "source": [
    "pd.plotting.scatter_matrix(df[['danceability','energy','popularity','speechiness']])\n",
    "plt.tight_layout();"
   ]
  },
  {
   "cell_type": "code",
   "execution_count": 7,
   "metadata": {},
   "outputs": [
    {
     "data": {
      "text/plain": [
       "<matplotlib.collections.PathCollection at 0x7fa10bbe5d90>"
      ]
     },
     "execution_count": 7,
     "metadata": {},
     "output_type": "execute_result"
    },
    {
     "data": {
      "image/png": "[encoded data removed]",
      "text/plain": [
       "<Figure size 432x288 with 1 Axes>"
      ]
     },
     "metadata": {},
     "output_type": "display_data"
    }
   ],
   "source": [
    "# Look for class imbalance across genres\n",
    "genre_TracksPer1000 = df.groupby('genre').count().track_name / 1000\n",
    "\n",
    "fig, ax = plt.subplots()\n",
    "\n",
    "ax.scatter(genre_TracksPer1000.index, genre_TracksPer1000.values)"
   ]
  },
  {
   "cell_type": "code",
   "execution_count": 8,
   "metadata": {},
   "outputs": [
    {
     "data": {
      "text/plain": [
       "genre\n",
       "reggaeton    0.012\n",
       "reggae       0.050\n",
       "latino       0.066\n",
       "indie-pop    0.085\n",
       "rock         0.126\n",
       "             ...  \n",
       "indian       0.968\n",
       "club         0.971\n",
       "bluegrass    0.971\n",
       "iranian      0.979\n",
       "comedy       0.985\n",
       "Name: track_name, Length: 112, dtype: float64"
      ]
     },
     "execution_count": 8,
     "metadata": {},
     "output_type": "execute_result"
    }
   ],
   "source": [
    "genre_TracksPer1000.sort_values()"
   ]
  },
  {
   "cell_type": "code",
   "execution_count": 9,
   "metadata": {},
   "outputs": [
    {
     "data": {
      "text/plain": [
       "0.266"
      ]
     },
     "execution_count": 9,
     "metadata": {},
     "output_type": "execute_result"
    }
   ],
   "source": [
    "genre_TracksPer1000['pop']"
   ]
  },
  {
   "cell_type": "code",
   "execution_count": 10,
   "metadata": {},
   "outputs": [
    {
     "data": {
      "text/plain": [
       "genre\n",
       "acoustic          0.949\n",
       "afrobeat          0.940\n",
       "alt-rock          0.967\n",
       "ambient           0.932\n",
       "anime             0.901\n",
       "black-metal       0.967\n",
       "bluegrass         0.971\n",
       "blues             0.846\n",
       "brazil            0.934\n",
       "breakbeat         0.911\n",
       "british           0.837\n",
       "cantopop          0.930\n",
       "chicago-house     0.930\n",
       "children          0.915\n",
       "chill             0.930\n",
       "classical         0.918\n",
       "club              0.971\n",
       "comedy            0.985\n",
       "country           0.903\n",
       "dance             0.848\n",
       "dancehall         0.910\n",
       "death-metal       0.875\n",
       "deep-house        0.946\n",
       "detroit-techno    0.949\n",
       "disco             0.820\n",
       "disney            0.889\n",
       "drum-and-bass     0.918\n",
       "dub               0.879\n",
       "emo               0.925\n",
       "forro             0.842\n",
       "gospel            0.867\n",
       "goth              0.858\n",
       "grindcore         0.940\n",
       "guitar            0.850\n",
       "happy             0.930\n",
       "hardstyle         0.889\n",
       "heavy-metal       0.955\n",
       "idm               0.949\n",
       "indian            0.968\n",
       "iranian           0.979\n",
       "j-idol            0.889\n",
       "k-pop             0.881\n",
       "kids              0.846\n",
       "malay             0.940\n",
       "minimal-techno    0.881\n",
       "new-age           0.946\n",
       "power-pop         0.825\n",
       "romance           0.932\n",
       "show-tunes        0.833\n",
       "sleep             0.914\n",
       "tango             0.921\n",
       "turkish           0.947\n",
       "Name: track_name, dtype: float64"
      ]
     },
     "execution_count": 10,
     "metadata": {},
     "output_type": "execute_result"
    }
   ],
   "source": [
    "genre_TracksPer1000[genre_TracksPer1000 > .8]"
   ]
  },
  {
   "cell_type": "code",
   "execution_count": 11,
   "metadata": {},
   "outputs": [
    {
     "data": {
      "text/plain": [
       "<BarContainer object of 5 artists>"
      ]
     },
     "execution_count": 11,
     "metadata": {},
     "output_type": "execute_result"
    },
    {
     "data": {
      "image/png": "[encoded data removed]",
      "text/plain": [
       "<Figure size 432x288 with 1 Axes>"
      ]
     },
     "metadata": {},
     "output_type": "display_data"
    }
   ],
   "source": [
    "popularity_avg_by_genre = df.groupby('genre').mean().popularity\n",
    "sorted_popularity_genre = popularity_avg_by_genre.sort_values(axis=0,ascending=False)\n",
    "\n",
    "fig, ax = plt.subplots()\n",
    "ax.bar(sorted_popularity_genre.index[:5],sorted_popularity_genre.values[:5])"
   ]
  },
  {
   "cell_type": "code",
   "execution_count": 12,
   "metadata": {},
   "outputs": [],
   "source": [
    "# Creating a dataframe of only popular genres with a large number of data points (>800) to mitigate class imbalance\n",
    "selected_genres=['acoustic','alt-rock','blues','classical',\n",
    "                 'country','dance','deep-house','disco',\n",
    "                 'hardstyle','heavy-metal','k-pop','tango']\n",
    "ml_df = df[df['genre'].isin(selected_genres)].copy()"
   ]
  },
  {
   "cell_type": "code",
   "execution_count": 13,
   "metadata": {},
   "outputs": [
    {
     "data": {
      "text/html": [
       "<div>\n",
       "<style scoped>\n",
       "    .dataframe tbody tr th:only-of-type {\n",
       "        vertical-align: middle;\n",
       "    }\n",
       "\n",
       "    .dataframe tbody tr th {\n",
       "        vertical-align: top;\n",
       "    }\n",
       "\n",
       "    .dataframe thead th {\n",
       "        text-align: right;\n",
       "    }\n",
       "</style>\n",
       "<table border=\"1\" class=\"dataframe\">\n",
       "  <thead>\n",
       "    <tr style=\"text-align: right;\">\n",
       "      <th></th>\n",
       "      <th>track_name</th>\n",
       "      <th>artist_name</th>\n",
       "      <th>album_name</th>\n",
       "      <th>genre</th>\n",
       "      <th>duration_ms</th>\n",
       "      <th>popularity</th>\n",
       "      <th>explicit</th>\n",
       "      <th>track_id</th>\n",
       "      <th>artist_id</th>\n",
       "      <th>danceability</th>\n",
       "      <th>...</th>\n",
       "      <th>key</th>\n",
       "      <th>loudness</th>\n",
       "      <th>mode</th>\n",
       "      <th>speechiness</th>\n",
       "      <th>acousticness</th>\n",
       "      <th>instrumentalness</th>\n",
       "      <th>liveness</th>\n",
       "      <th>valence</th>\n",
       "      <th>tempo</th>\n",
       "      <th>duration_s</th>\n",
       "    </tr>\n",
       "  </thead>\n",
       "  <tbody>\n",
       "    <tr>\n",
       "      <th>0</th>\n",
       "      <td>Hold On</td>\n",
       "      <td>Chord Overstreet</td>\n",
       "      <td>Hold On</td>\n",
       "      <td>acoustic</td>\n",
       "      <td>198853</td>\n",
       "      <td>83</td>\n",
       "      <td>0</td>\n",
       "      <td>5vjLSffimiIP26QG5WcN2K</td>\n",
       "      <td>5D3muNJhYYunbRkh3FKgX0</td>\n",
       "      <td>0.618</td>\n",
       "      <td>...</td>\n",
       "      <td>2</td>\n",
       "      <td>-9.681</td>\n",
       "      <td>1</td>\n",
       "      <td>0.0526</td>\n",
       "      <td>0.4690</td>\n",
       "      <td>0.0</td>\n",
       "      <td>0.0829</td>\n",
       "      <td>0.167</td>\n",
       "      <td>119.949</td>\n",
       "      <td>199.0</td>\n",
       "    </tr>\n",
       "    <tr>\n",
       "      <th>1</th>\n",
       "      <td>I'm Yours</td>\n",
       "      <td>Jason Mraz</td>\n",
       "      <td>We Sing. We Dance. We Steal Things.</td>\n",
       "      <td>acoustic</td>\n",
       "      <td>242186</td>\n",
       "      <td>83</td>\n",
       "      <td>0</td>\n",
       "      <td>1EzrEOXmMH3G43AXT1y7pA</td>\n",
       "      <td>4phGZZrJZRo4ElhRtViYdl</td>\n",
       "      <td>0.686</td>\n",
       "      <td>...</td>\n",
       "      <td>11</td>\n",
       "      <td>-8.322</td>\n",
       "      <td>1</td>\n",
       "      <td>0.0468</td>\n",
       "      <td>0.5950</td>\n",
       "      <td>0.0</td>\n",
       "      <td>0.1050</td>\n",
       "      <td>0.718</td>\n",
       "      <td>150.953</td>\n",
       "      <td>242.0</td>\n",
       "    </tr>\n",
       "    <tr>\n",
       "      <th>2</th>\n",
       "      <td>I Won't Give Up</td>\n",
       "      <td>Jason Mraz</td>\n",
       "      <td>Love Is a Four Letter Word (Deluxe Edition)</td>\n",
       "      <td>acoustic</td>\n",
       "      <td>240165</td>\n",
       "      <td>73</td>\n",
       "      <td>0</td>\n",
       "      <td>53QF56cjZA9RTuuMZDrSA6</td>\n",
       "      <td>4phGZZrJZRo4ElhRtViYdl</td>\n",
       "      <td>0.585</td>\n",
       "      <td>...</td>\n",
       "      <td>4</td>\n",
       "      <td>-10.058</td>\n",
       "      <td>1</td>\n",
       "      <td>0.0398</td>\n",
       "      <td>0.6940</td>\n",
       "      <td>0.0</td>\n",
       "      <td>0.1150</td>\n",
       "      <td>0.142</td>\n",
       "      <td>136.703</td>\n",
       "      <td>240.0</td>\n",
       "    </tr>\n",
       "    <tr>\n",
       "      <th>3</th>\n",
       "      <td>Come On Get Higher</td>\n",
       "      <td>Matt Nathanson</td>\n",
       "      <td>Some Mad Hope</td>\n",
       "      <td>acoustic</td>\n",
       "      <td>215173</td>\n",
       "      <td>72</td>\n",
       "      <td>0</td>\n",
       "      <td>38YgZVHPWOWsKrsCXz6JyP</td>\n",
       "      <td>4NGiEU3Pkd8ASRyQR30jcA</td>\n",
       "      <td>0.672</td>\n",
       "      <td>...</td>\n",
       "      <td>9</td>\n",
       "      <td>-5.699</td>\n",
       "      <td>1</td>\n",
       "      <td>0.0297</td>\n",
       "      <td>0.2410</td>\n",
       "      <td>0.0</td>\n",
       "      <td>0.0848</td>\n",
       "      <td>0.617</td>\n",
       "      <td>92.018</td>\n",
       "      <td>215.0</td>\n",
       "    </tr>\n",
       "    <tr>\n",
       "      <th>4</th>\n",
       "      <td>Love Song</td>\n",
       "      <td>Sara Bareilles</td>\n",
       "      <td>Little Voice</td>\n",
       "      <td>acoustic</td>\n",
       "      <td>258826</td>\n",
       "      <td>75</td>\n",
       "      <td>0</td>\n",
       "      <td>4E6cwWJWZw2zWf7VFbH7wf</td>\n",
       "      <td>2Sqr0DXoaYABbjBo9HaMkM</td>\n",
       "      <td>0.583</td>\n",
       "      <td>...</td>\n",
       "      <td>2</td>\n",
       "      <td>-3.142</td>\n",
       "      <td>0</td>\n",
       "      <td>0.0301</td>\n",
       "      <td>0.0208</td>\n",
       "      <td>0.0</td>\n",
       "      <td>0.1880</td>\n",
       "      <td>0.573</td>\n",
       "      <td>123.055</td>\n",
       "      <td>259.0</td>\n",
       "    </tr>\n",
       "  </tbody>\n",
       "</table>\n",
       "<p>5 rows × 21 columns</p>\n",
       "</div>"
      ],
      "text/plain": [
       "           track_name       artist_name  \\\n",
       "0             Hold On  Chord Overstreet   \n",
       "1           I'm Yours        Jason Mraz   \n",
       "2     I Won't Give Up        Jason Mraz   \n",
       "3  Come On Get Higher    Matt Nathanson   \n",
       "4           Love Song    Sara Bareilles   \n",
       "\n",
       "                                    album_name     genre  duration_ms  \\\n",
       "0                                      Hold On  acoustic       198853   \n",
       "1          We Sing. We Dance. We Steal Things.  acoustic       242186   \n",
       "2  Love Is a Four Letter Word (Deluxe Edition)  acoustic       240165   \n",
       "3                                Some Mad Hope  acoustic       215173   \n",
       "4                                 Little Voice  acoustic       258826   \n",
       "\n",
       "   popularity  explicit                track_id               artist_id  \\\n",
       "0          83         0  5vjLSffimiIP26QG5WcN2K  5D3muNJhYYunbRkh3FKgX0   \n",
       "1          83         0  1EzrEOXmMH3G43AXT1y7pA  4phGZZrJZRo4ElhRtViYdl   \n",
       "2          73         0  53QF56cjZA9RTuuMZDrSA6  4phGZZrJZRo4ElhRtViYdl   \n",
       "3          72         0  38YgZVHPWOWsKrsCXz6JyP  4NGiEU3Pkd8ASRyQR30jcA   \n",
       "4          75         0  4E6cwWJWZw2zWf7VFbH7wf  2Sqr0DXoaYABbjBo9HaMkM   \n",
       "\n",
       "   danceability  ...  key  loudness  mode  speechiness  acousticness  \\\n",
       "0         0.618  ...    2    -9.681     1       0.0526        0.4690   \n",
       "1         0.686  ...   11    -8.322     1       0.0468        0.5950   \n",
       "2         0.585  ...    4   -10.058     1       0.0398        0.6940   \n",
       "3         0.672  ...    9    -5.699     1       0.0297        0.2410   \n",
       "4         0.583  ...    2    -3.142     0       0.0301        0.0208   \n",
       "\n",
       "   instrumentalness  liveness  valence    tempo  duration_s  \n",
       "0               0.0    0.0829    0.167  119.949       199.0  \n",
       "1               0.0    0.1050    0.718  150.953       242.0  \n",
       "2               0.0    0.1150    0.142  136.703       240.0  \n",
       "3               0.0    0.0848    0.617   92.018       215.0  \n",
       "4               0.0    0.1880    0.573  123.055       259.0  \n",
       "\n",
       "[5 rows x 21 columns]"
      ]
     },
     "execution_count": 13,
     "metadata": {},
     "output_type": "execute_result"
    }
   ],
   "source": [
    "ml_df.head()"
   ]
  },
  {
   "cell_type": "code",
   "execution_count": 14,
   "metadata": {},
   "outputs": [
    {
     "data": {
      "text/plain": [
       "Index(['track_name', 'artist_name', 'album_name', 'genre', 'duration_ms',\n",
       "       'popularity', 'explicit', 'track_id', 'artist_id', 'danceability',\n",
       "       'energy', 'key', 'loudness', 'mode', 'speechiness', 'acousticness',\n",
       "       'instrumentalness', 'liveness', 'valence', 'tempo', 'duration_s'],\n",
       "      dtype='object')"
      ]
     },
     "execution_count": 14,
     "metadata": {},
     "output_type": "execute_result"
    }
   ],
   "source": [
    "ml_df.columns"
   ]
  },
  {
   "cell_type": "code",
   "execution_count": 15,
   "metadata": {},
   "outputs": [],
   "source": [
    "# Remove non-numeric or unnecessary rows\n",
    "ml_df.drop(['track_id','artist_id','duration_ms','track_name','artist_name'], axis=1, inplace=True)"
   ]
  },
  {
   "cell_type": "code",
   "execution_count": 16,
   "metadata": {},
   "outputs": [],
   "source": [
    "ml_df.drop('album_name', axis=1, inplace=True)"
   ]
  },
  {
   "cell_type": "code",
   "execution_count": 17,
   "metadata": {},
   "outputs": [
    {
     "data": {
      "text/html": [
       "<div>\n",
       "<style scoped>\n",
       "    .dataframe tbody tr th:only-of-type {\n",
       "        vertical-align: middle;\n",
       "    }\n",
       "\n",
       "    .dataframe tbody tr th {\n",
       "        vertical-align: top;\n",
       "    }\n",
       "\n",
       "    .dataframe thead th {\n",
       "        text-align: right;\n",
       "    }\n",
       "</style>\n",
       "<table border=\"1\" class=\"dataframe\">\n",
       "  <thead>\n",
       "    <tr style=\"text-align: right;\">\n",
       "      <th></th>\n",
       "      <th>genre</th>\n",
       "      <th>popularity</th>\n",
       "      <th>explicit</th>\n",
       "      <th>danceability</th>\n",
       "      <th>energy</th>\n",
       "      <th>key</th>\n",
       "      <th>loudness</th>\n",
       "      <th>mode</th>\n",
       "      <th>speechiness</th>\n",
       "      <th>acousticness</th>\n",
       "      <th>instrumentalness</th>\n",
       "      <th>liveness</th>\n",
       "      <th>valence</th>\n",
       "      <th>tempo</th>\n",
       "      <th>duration_s</th>\n",
       "    </tr>\n",
       "  </thead>\n",
       "  <tbody>\n",
       "    <tr>\n",
       "      <th>0</th>\n",
       "      <td>acoustic</td>\n",
       "      <td>83</td>\n",
       "      <td>0</td>\n",
       "      <td>0.618</td>\n",
       "      <td>0.4430</td>\n",
       "      <td>2</td>\n",
       "      <td>-9.681</td>\n",
       "      <td>1</td>\n",
       "      <td>0.0526</td>\n",
       "      <td>0.4690</td>\n",
       "      <td>0.000000</td>\n",
       "      <td>0.0829</td>\n",
       "      <td>0.1670</td>\n",
       "      <td>119.949</td>\n",
       "      <td>199.0</td>\n",
       "    </tr>\n",
       "    <tr>\n",
       "      <th>1</th>\n",
       "      <td>acoustic</td>\n",
       "      <td>83</td>\n",
       "      <td>0</td>\n",
       "      <td>0.686</td>\n",
       "      <td>0.4570</td>\n",
       "      <td>11</td>\n",
       "      <td>-8.322</td>\n",
       "      <td>1</td>\n",
       "      <td>0.0468</td>\n",
       "      <td>0.5950</td>\n",
       "      <td>0.000000</td>\n",
       "      <td>0.1050</td>\n",
       "      <td>0.7180</td>\n",
       "      <td>150.953</td>\n",
       "      <td>242.0</td>\n",
       "    </tr>\n",
       "    <tr>\n",
       "      <th>2</th>\n",
       "      <td>acoustic</td>\n",
       "      <td>73</td>\n",
       "      <td>0</td>\n",
       "      <td>0.585</td>\n",
       "      <td>0.3030</td>\n",
       "      <td>4</td>\n",
       "      <td>-10.058</td>\n",
       "      <td>1</td>\n",
       "      <td>0.0398</td>\n",
       "      <td>0.6940</td>\n",
       "      <td>0.000000</td>\n",
       "      <td>0.1150</td>\n",
       "      <td>0.1420</td>\n",
       "      <td>136.703</td>\n",
       "      <td>240.0</td>\n",
       "    </tr>\n",
       "    <tr>\n",
       "      <th>3</th>\n",
       "      <td>acoustic</td>\n",
       "      <td>72</td>\n",
       "      <td>0</td>\n",
       "      <td>0.672</td>\n",
       "      <td>0.6230</td>\n",
       "      <td>9</td>\n",
       "      <td>-5.699</td>\n",
       "      <td>1</td>\n",
       "      <td>0.0297</td>\n",
       "      <td>0.2410</td>\n",
       "      <td>0.000000</td>\n",
       "      <td>0.0848</td>\n",
       "      <td>0.6170</td>\n",
       "      <td>92.018</td>\n",
       "      <td>215.0</td>\n",
       "    </tr>\n",
       "    <tr>\n",
       "      <th>4</th>\n",
       "      <td>acoustic</td>\n",
       "      <td>75</td>\n",
       "      <td>0</td>\n",
       "      <td>0.583</td>\n",
       "      <td>0.7860</td>\n",
       "      <td>2</td>\n",
       "      <td>-3.142</td>\n",
       "      <td>0</td>\n",
       "      <td>0.0301</td>\n",
       "      <td>0.0208</td>\n",
       "      <td>0.000000</td>\n",
       "      <td>0.1880</td>\n",
       "      <td>0.5730</td>\n",
       "      <td>123.055</td>\n",
       "      <td>259.0</td>\n",
       "    </tr>\n",
       "    <tr>\n",
       "      <th>...</th>\n",
       "      <td>...</td>\n",
       "      <td>...</td>\n",
       "      <td>...</td>\n",
       "      <td>...</td>\n",
       "      <td>...</td>\n",
       "      <td>...</td>\n",
       "      <td>...</td>\n",
       "      <td>...</td>\n",
       "      <td>...</td>\n",
       "      <td>...</td>\n",
       "      <td>...</td>\n",
       "      <td>...</td>\n",
       "      <td>...</td>\n",
       "      <td>...</td>\n",
       "      <td>...</td>\n",
       "    </tr>\n",
       "    <tr>\n",
       "      <th>74218</th>\n",
       "      <td>tango</td>\n",
       "      <td>17</td>\n",
       "      <td>0</td>\n",
       "      <td>0.412</td>\n",
       "      <td>0.3930</td>\n",
       "      <td>6</td>\n",
       "      <td>-10.250</td>\n",
       "      <td>0</td>\n",
       "      <td>0.0371</td>\n",
       "      <td>0.7020</td>\n",
       "      <td>0.085500</td>\n",
       "      <td>0.1600</td>\n",
       "      <td>0.5730</td>\n",
       "      <td>116.802</td>\n",
       "      <td>193.0</td>\n",
       "    </tr>\n",
       "    <tr>\n",
       "      <th>74219</th>\n",
       "      <td>tango</td>\n",
       "      <td>18</td>\n",
       "      <td>0</td>\n",
       "      <td>0.780</td>\n",
       "      <td>0.2770</td>\n",
       "      <td>2</td>\n",
       "      <td>-11.989</td>\n",
       "      <td>0</td>\n",
       "      <td>0.0456</td>\n",
       "      <td>0.6760</td>\n",
       "      <td>0.349000</td>\n",
       "      <td>0.1180</td>\n",
       "      <td>0.7760</td>\n",
       "      <td>135.662</td>\n",
       "      <td>173.0</td>\n",
       "    </tr>\n",
       "    <tr>\n",
       "      <th>74220</th>\n",
       "      <td>tango</td>\n",
       "      <td>13</td>\n",
       "      <td>0</td>\n",
       "      <td>0.235</td>\n",
       "      <td>0.3740</td>\n",
       "      <td>4</td>\n",
       "      <td>-11.206</td>\n",
       "      <td>0</td>\n",
       "      <td>0.0337</td>\n",
       "      <td>0.7280</td>\n",
       "      <td>0.000102</td>\n",
       "      <td>0.1870</td>\n",
       "      <td>0.3390</td>\n",
       "      <td>126.144</td>\n",
       "      <td>184.0</td>\n",
       "    </tr>\n",
       "    <tr>\n",
       "      <th>74221</th>\n",
       "      <td>tango</td>\n",
       "      <td>13</td>\n",
       "      <td>0</td>\n",
       "      <td>0.503</td>\n",
       "      <td>0.1510</td>\n",
       "      <td>0</td>\n",
       "      <td>-11.434</td>\n",
       "      <td>1</td>\n",
       "      <td>0.0437</td>\n",
       "      <td>0.9240</td>\n",
       "      <td>0.000019</td>\n",
       "      <td>0.1660</td>\n",
       "      <td>0.5260</td>\n",
       "      <td>118.682</td>\n",
       "      <td>184.0</td>\n",
       "    </tr>\n",
       "    <tr>\n",
       "      <th>74222</th>\n",
       "      <td>tango</td>\n",
       "      <td>17</td>\n",
       "      <td>0</td>\n",
       "      <td>0.146</td>\n",
       "      <td>0.0584</td>\n",
       "      <td>9</td>\n",
       "      <td>-19.674</td>\n",
       "      <td>0</td>\n",
       "      <td>0.0376</td>\n",
       "      <td>0.8660</td>\n",
       "      <td>0.008470</td>\n",
       "      <td>0.3430</td>\n",
       "      <td>0.0385</td>\n",
       "      <td>87.371</td>\n",
       "      <td>326.0</td>\n",
       "    </tr>\n",
       "  </tbody>\n",
       "</table>\n",
       "<p>10843 rows × 15 columns</p>\n",
       "</div>"
      ],
      "text/plain": [
       "          genre  popularity  explicit  danceability  energy  key  loudness  \\\n",
       "0      acoustic          83         0         0.618  0.4430    2    -9.681   \n",
       "1      acoustic          83         0         0.686  0.4570   11    -8.322   \n",
       "2      acoustic          73         0         0.585  0.3030    4   -10.058   \n",
       "3      acoustic          72         0         0.672  0.6230    9    -5.699   \n",
       "4      acoustic          75         0         0.583  0.7860    2    -3.142   \n",
       "...         ...         ...       ...           ...     ...  ...       ...   \n",
       "74218     tango          17         0         0.412  0.3930    6   -10.250   \n",
       "74219     tango          18         0         0.780  0.2770    2   -11.989   \n",
       "74220     tango          13         0         0.235  0.3740    4   -11.206   \n",
       "74221     tango          13         0         0.503  0.1510    0   -11.434   \n",
       "74222     tango          17         0         0.146  0.0584    9   -19.674   \n",
       "\n",
       "       mode  speechiness  acousticness  instrumentalness  liveness  valence  \\\n",
       "0         1       0.0526        0.4690          0.000000    0.0829   0.1670   \n",
       "1         1       0.0468        0.5950          0.000000    0.1050   0.7180   \n",
       "2         1       0.0398        0.6940          0.000000    0.1150   0.1420   \n",
       "3         1       0.0297        0.2410          0.000000    0.0848   0.6170   \n",
       "4         0       0.0301        0.0208          0.000000    0.1880   0.5730   \n",
       "...     ...          ...           ...               ...       ...      ...   \n",
       "74218     0       0.0371        0.7020          0.085500    0.1600   0.5730   \n",
       "74219     0       0.0456        0.6760          0.349000    0.1180   0.7760   \n",
       "74220     0       0.0337        0.7280          0.000102    0.1870   0.3390   \n",
       "74221     1       0.0437        0.9240          0.000019    0.1660   0.5260   \n",
       "74222     0       0.0376        0.8660          0.008470    0.3430   0.0385   \n",
       "\n",
       "         tempo  duration_s  \n",
       "0      119.949       199.0  \n",
       "1      150.953       242.0  \n",
       "2      136.703       240.0  \n",
       "3       92.018       215.0  \n",
       "4      123.055       259.0  \n",
       "...        ...         ...  \n",
       "74218  116.802       193.0  \n",
       "74219  135.662       173.0  \n",
       "74220  126.144       184.0  \n",
       "74221  118.682       184.0  \n",
       "74222   87.371       326.0  \n",
       "\n",
       "[10843 rows x 15 columns]"
      ]
     },
     "execution_count": 17,
     "metadata": {},
     "output_type": "execute_result"
    }
   ],
   "source": [
    "ml_df"
   ]
  },
  {
   "cell_type": "markdown",
   "metadata": {},
   "source": [
    "# Machine Learning"
   ]
  },
  {
   "cell_type": "markdown",
   "metadata": {},
   "source": [
    "I am stratifying all splits for the data since we have a slight class imbalance."
   ]
  },
  {
   "cell_type": "code",
   "execution_count": 38,
   "metadata": {},
   "outputs": [],
   "source": [
    "# Initialize Features and Target\n",
    "X = ml_df.copy()\n",
    "y = X.pop('genre')\n",
    "\n",
    "# Establish Train/Validation-Test split\n",
    "X_train_val, X_test, y_train_val, y_test = train_test_split(X, y, test_size=0.1, stratify=y)"
   ]
  },
  {
   "cell_type": "code",
   "execution_count": 39,
   "metadata": {},
   "outputs": [],
   "source": [
    "# Traditional train-test split\n",
    "X_train, X_val, y_train, y_val = train_test_split(X_train_val, y_train_val, test_size=0.2, stratify=y_train_val)"
   ]
  },
  {
   "cell_type": "markdown",
   "metadata": {},
   "source": [
    "## Dummy Classifier"
   ]
  },
  {
   "cell_type": "code",
   "execution_count": 40,
   "metadata": {},
   "outputs": [
    {
     "name": "stderr",
     "output_type": "stream",
     "text": [
      "/Users/ken/opt/anaconda3/lib/python3.7/site-packages/sklearn/dummy.py:132: FutureWarning: The default value of strategy will change from stratified to prior in 0.24.\n",
      "  \"stratified to prior in 0.24.\", FutureWarning)\n"
     ]
    },
    {
     "data": {
      "text/plain": [
       "0.09118852459016394"
      ]
     },
     "execution_count": 40,
     "metadata": {},
     "output_type": "execute_result"
    }
   ],
   "source": [
    "# Dummy Classifier\n",
    "dummy = DummyClassifier()\n",
    "dummy.fit(X_train, y_train)\n",
    "dummy.score(X_val, y_val)"
   ]
  },
  {
   "cell_type": "markdown",
   "metadata": {},
   "source": [
    "## kNN"
   ]
  },
  {
   "cell_type": "code",
   "execution_count": 41,
   "metadata": {},
   "outputs": [
    {
     "name": "stdout",
     "output_type": "stream",
     "text": [
      "k = 1, accuracy = 0.45235655737704916\n",
      "k = 2, accuracy = 0.45081967213114754\n",
      "k = 3, accuracy = 0.4646516393442623\n",
      "k = 4, accuracy = 0.48258196721311475\n",
      "k = 5, accuracy = 0.4959016393442623\n",
      "k = 6, accuracy = 0.5092213114754098\n",
      "k = 7, accuracy = 0.5102459016393442\n",
      "k = 8, accuracy = 0.5112704918032787\n",
      "k = 9, accuracy = 0.5138319672131147\n",
      "k = 10, accuracy = 0.5230532786885246\n",
      "k = 11, accuracy = 0.5297131147540983\n",
      "k = 12, accuracy = 0.5199795081967213\n",
      "k = 13, accuracy = 0.5128073770491803\n",
      "k = 14, accuracy = 0.5179303278688525\n",
      "k = 15, accuracy = 0.5128073770491803\n",
      "k = 16, accuracy = 0.5097336065573771\n",
      "k = 17, accuracy = 0.5158811475409836\n",
      "k = 18, accuracy = 0.5128073770491803\n",
      "k = 19, accuracy = 0.5158811475409836\n",
      "k = 20, accuracy = 0.5163934426229508\n",
      "k = 21, accuracy = 0.5158811475409836\n",
      "k = 22, accuracy = 0.5179303278688525\n",
      "k = 23, accuracy = 0.5148565573770492\n",
      "k = 24, accuracy = 0.5174180327868853\n",
      "k = 25, accuracy = 0.5179303278688525\n",
      "k = 26, accuracy = 0.516905737704918\n",
      "k = 27, accuracy = 0.5179303278688525\n",
      "k = 28, accuracy = 0.516905737704918\n",
      "k = 29, accuracy = 0.5133196721311475\n",
      "k = 30, accuracy = 0.5163934426229508\n",
      "k = 31, accuracy = 0.5148565573770492\n",
      "k = 32, accuracy = 0.514344262295082\n",
      "k = 33, accuracy = 0.5128073770491803\n",
      "k = 34, accuracy = 0.5128073770491803\n",
      "k = 35, accuracy = 0.5133196721311475\n",
      "k = 36, accuracy = 0.5133196721311475\n",
      "k = 37, accuracy = 0.5122950819672131\n",
      "k = 38, accuracy = 0.5117827868852459\n",
      "k = 39, accuracy = 0.5107581967213115\n",
      "k = 40, accuracy = 0.5051229508196722\n",
      "k = 41, accuracy = 0.5030737704918032\n",
      "k = 42, accuracy = 0.5040983606557377\n",
      "k = 43, accuracy = 0.5051229508196722\n",
      "k = 44, accuracy = 0.5102459016393442\n",
      "k = 45, accuracy = 0.5076844262295082\n",
      "k = 46, accuracy = 0.5092213114754098\n",
      "k = 47, accuracy = 0.5056352459016393\n",
      "k = 48, accuracy = 0.5030737704918032\n",
      "k = 49, accuracy = 0.5040983606557377\n"
     ]
    }
   ],
   "source": [
    "# Look at different numbers of nearest neighbors\n",
    "for k in range(1,50):\n",
    "    classifier = KNeighborsClassifier(n_neighbors=k)\n",
    "    classifier.fit(X_train, y_train)\n",
    "    score = classifier.score(X_val, y_val)\n",
    "    print(f'k = {k}, accuracy = {score}')"
   ]
  },
  {
   "cell_type": "code",
   "execution_count": 42,
   "metadata": {},
   "outputs": [],
   "source": [
    "def cross_val(X_train, y_train, k=3, n=19):\n",
    "    '''\n",
    "    Returns accuracy for stratified k-fold cross validation.\n",
    "    Stratified K-fold is used since we have many classes and\n",
    "    we want to preserve some amount of each class in each split.\n",
    "    '''\n",
    "    skf = StratifiedKFold(n_splits=k)\n",
    "    accuracy = np.empty(k)\n",
    "    \n",
    "    for i, (train, test) in enumerate(skf.split(X_train, y_train)):\n",
    "        classifier = KNeighborsClassifier(n_neighbors=n)\n",
    "        classifier.fit(X_train.iloc[train], y_train.iloc[train])\n",
    "        accuracy[i] = classifier.score(X_train.iloc[test],y_train.iloc[test])\n",
    "        \n",
    "    return np.mean(accuracy)"
   ]
  },
  {
   "cell_type": "code",
   "execution_count": 43,
   "metadata": {},
   "outputs": [
    {
     "data": {
      "text/plain": [
       "0.4920579325935228"
      ]
     },
     "execution_count": 43,
     "metadata": {},
     "output_type": "execute_result"
    }
   ],
   "source": [
    "cross_val(X_train, y_train, k=5)"
   ]
  },
  {
   "cell_type": "code",
   "execution_count": 44,
   "metadata": {},
   "outputs": [
    {
     "data": {
      "text/plain": [
       "0.49693079221248243"
      ]
     },
     "execution_count": 44,
     "metadata": {},
     "output_type": "execute_result"
    }
   ],
   "source": [
    "cross_val(X_train, y_train, k=10)"
   ]
  },
  {
   "cell_type": "code",
   "execution_count": 45,
   "metadata": {},
   "outputs": [
    {
     "data": {
      "text/plain": [
       "0.500517410977769"
      ]
     },
     "execution_count": 45,
     "metadata": {},
     "output_type": "execute_result"
    }
   ],
   "source": [
    "cross_val(X_train, y_train, k=20)"
   ]
  },
  {
   "cell_type": "code",
   "execution_count": 46,
   "metadata": {},
   "outputs": [
    {
     "data": {
      "image/png": "[encoded data removed]",
      "text/plain": [
       "<Figure size 2000x1600 with 1 Axes>"
      ]
     },
     "metadata": {},
     "output_type": "display_data"
    }
   ],
   "source": [
    "# Plot cross-validation scores for different numbers of\n",
    "# nearest neighbors with 10 kfolds\n",
    "cv_scores = []\n",
    "max_score = 0\n",
    "max_n = 0\n",
    "for n in range(1,100):\n",
    "    cv_score = cross_val(X_train, y_train, k=10, n=n)\n",
    "    cv_scores.append(cv_score)\n",
    "    if cv_score > max_score:\n",
    "        max_score = cv_score\n",
    "        max_n = n\n",
    "\n",
    "\n",
    "fig, ax = plt.subplots(figsize=(10,8), dpi=200)    \n",
    "ax.plot(list(range(1,100)),cv_scores)\n",
    "ax.axvline(max_n, linestyle='--',c='k',alpha=0.5)\n",
    "ax.text(max_n+4, max_score-0.0025,\n",
    "        s=f'best n: {max_n}\\nhighest accuracy: {max_score:.2f}',\n",
    "        fontsize=12)\n",
    "ax.set_xlabel('k Nearest Neighbors', fontsize=14)\n",
    "ax.set_ylabel('Accuracy', fontsize=14)\n",
    "ax.tick_params(axis='both',which='major',labelsize=10)\n",
    "ax.set_title('Test Accuracy vs k Nearest Neighbors', fontsize=14);\n",
    "\n",
    "plt.savefig('../imgs/accuracy_vs_nearestneighbors.png')"
   ]
  },
  {
   "cell_type": "markdown",
   "metadata": {},
   "source": [
    "## Logistic Regression"
   ]
  },
  {
   "cell_type": "code",
   "execution_count": null,
   "metadata": {},
   "outputs": [],
   "source": [
    "log_clf = LogisticRegression(multi_class='multinomial',max_iter=100)"
   ]
  }
 ],
 "metadata": {
  "kernelspec": {
   "display_name": "Python 3",
   "language": "python",
   "name": "python3"
  },
  "language_info": {
   "codemirror_mode": {
    "name": "ipython",
    "version": 3
   },
   "file_extension": ".py",
   "mimetype": "text/x-python",
   "name": "python",
   "nbconvert_exporter": "python",
   "pygments_lexer": "ipython3",
   "version": "3.7.9"
  }
 },
 "nbformat": 4,
 "nbformat_minor": 4
}
